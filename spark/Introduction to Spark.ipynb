<pre><div class="text_to_html">{
 &quot;cells&quot;: [
  {
   &quot;cell_type&quot;: &quot;markdown&quot;,
   &quot;metadata&quot;: {},
   &quot;source&quot;: [
    &quot;# Introduction to Spark&quot;
   ]
  },
  {
   &quot;cell_type&quot;: &quot;markdown&quot;,
   &quot;metadata&quot;: {},
   &quot;source&quot;: [
    &quot;In this class, we&#039;ll look at practical use of the Spark framework using PySpark. We&#039;ll see how to distribute data, how to use the MapReduce model, and how to store and manipulate distributed data.\n&quot;,
    &quot;\n&quot;,
    &quot;Spark is most often used in a large datacenter, and tomorrow we&#039;ll look at GCP&#039;s [DataProc](<a href="https://cloud.google.com/dataproc" class="_blanktarget">https://cloud.google.com/dataproc</a>) platform which can be used for Spark. For today, however, we&#039;ll use local installations or Colab with small examples, just to see how PySpark works. To follow, you should either install Spark locally on a Linux machine, or upload this notebook to Colab and follow the instructions.&quot;
   ]
  },
  {
   &quot;cell_type&quot;: &quot;markdown&quot;,
   &quot;metadata&quot;: {},
   &quot;source&quot;: [
    &quot;## Outline\n&quot;,
    &quot;\n&quot;,
    &quot;+ [Local installation on Linux](#linux)\n&quot;,
    &quot;+ [Use in Colab](#colab)\n&quot;,
    &quot;+ [Running Spark](#running)\n&quot;,
    &quot;+ [Warm up with RDDs](#RDDs)\n&quot;,
    &quot;+ [Persistent RDDs](#persistent)\n&quot;,
    &quot;+ [Distributed K-Means](#kmeans)\n&quot;,
    &quot;+ [DataFrames and Queries](#DataFrames)&quot;
   ]
  },
  {
   &quot;cell_type&quot;: &quot;markdown&quot;,
   &quot;metadata&quot;: {},
   &quot;source&quot;: [
    &quot;## &lt;a id=\&quot;linux\&quot;&gt; Local installation on Linux&quot;
   ]
  },
  {
   &quot;cell_type&quot;: &quot;markdown&quot;,
   &quot;metadata&quot;: {},
   &quot;source&quot;: [
    &quot;Download Spark-3.0.0, prebuilt for Hadoop 2.7 from the [Spark downloads page](<a href="http://spark.apache.org/downloads.html" class="_blanktarget">http://spark.apache.org/downloads.html</a>). Install the package to `/opt/`:\n&quot;,
    &quot;\n&quot;,
    &quot;```bash\n&quot;,
    &quot;$ tar xvzf spark-3.0.0-preview2-bin-hadoop2.7.tgz\n&quot;,
    &quot;$ mv spark-3.0.0-preview2-bin-hadoop2.7 /opt/spark-3.3.0\n&quot;,
    &quot;$ ln -s /opt/spark-3.0.0 /opt/spark\n&quot;,
    &quot;```\n&quot;,
    &quot;\n&quot;,
    &quot;Afterwards, you&#039;ll want to configure your `$PATH` variable, normally in your `~/.bashrc`:\n&quot;,
    &quot;\n&quot;,
    &quot;```bash\n&quot;,
    &quot;export SPARK_HOME=/opt/spark\n&quot;,
    &quot;export PATH=$SPARK_HOME/bin:$PATH\n&quot;,
    &quot;```&quot;
   ]
  },
  {
   &quot;cell_type&quot;: &quot;markdown&quot;,
   &quot;metadata&quot;: {},
   &quot;source&quot;: [
    &quot;You can now launch PySpark to run this notebook. If you don&#039;t have PySpark in your Python environment, install it. You&#039;ll want to set some environment variables (as your normal user) for PySpark so that it automatically runs Jupyter.\n&quot;,
    &quot;\n&quot;,
    &quot;```bash\n&quot;,
    &quot;$ pip install pyspark pyarrow\n&quot;,
    &quot;$ export PYSPARK_DRIVER_PYTHON=\&quot;jupyter\&quot;\n&quot;,
    &quot;$ export PYSPARK_DRIVER_PYTHON_OPTS=\&quot;notebook --pylab inline\&quot;\n&quot;,
    &quot;$ pyspark\n&quot;,
    &quot;```&quot;
   ]
  },
  {
   &quot;cell_type&quot;: &quot;markdown&quot;,
   &quot;metadata&quot;: {},
   &quot;source&quot;: [
    &quot;## &lt;a id=\&quot;colab\&quot;&gt;Use in Colab&lt;/a&gt;&quot;
   ]
  },
  {
   &quot;cell_type&quot;: &quot;markdown&quot;,
   &quot;metadata&quot;: {},
   &quot;source&quot;: [
    &quot;Instead of locally installing, you can also upload this notebook to Colab. This may be a bit slower than local installations. Uncomment (`ctrl /`) and run the following:&quot;
   ]
  },
  {
   &quot;cell_type&quot;: &quot;code&quot;,
   &quot;execution_count&quot;: null,
   &quot;metadata&quot;: {},
   &quot;outputs&quot;: [],
   &quot;source&quot;: [
    &quot;# !apt-get install openjdk-8-jdk-headless -qq &gt; /dev/null\n&quot;,
    &quot;# !wget -q <a href="https://apache.mirrors.benatherton.com/spark/spark-3.0.0-preview2/spark-3.0.0-preview2-bin-hadoop2.7.tgz" class="_blanktarget">https://apache.mirrors.benatherton.com/spark/spark-3.0.0-preview2/spark-3.0.0-preview2-bin-hadoop2.7.tgz</a>\n&quot;,
    &quot;# !tar xf spark-3.0.0-preview2-bin-hadoop2.7.tgz\n&quot;,
    &quot;# !pip install -q findspark\n&quot;,
    &quot;# !pip install py4j pyarrow&quot;
   ]
  },
  {
   &quot;cell_type&quot;: &quot;markdown&quot;,
   &quot;metadata&quot;: {},
   &quot;source&quot;: [
    &quot;`findspark` will help find the Spark installation, and `py4j` lets us access Java objects. We&#039;ll see environment varibles like in the local installation :&quot;
   ]
  },
  {
   &quot;cell_type&quot;: &quot;code&quot;,
   &quot;execution_count&quot;: null,
   &quot;metadata&quot;: {},
   &quot;outputs&quot;: [],
   &quot;source&quot;: [
    &quot;# import os\n&quot;,
    &quot;# os.environ[\&quot;JAVA_HOME\&quot;] = \&quot;/usr/lib/jvm/java-<img class="icon emoticon" alt="surprise" title="surprise" src="https://lms.isae.fr/theme/image.php/fordson/core/1606401591/s/surprise" />penjdk-amd64\&quot;\n&quot;,
    &quot;# os.environ[\&quot;SPARK_HOME\&quot;] = \&quot;/content/spark-3.0.0-preview2-bin-hadoop2.7\&quot;&quot;
   ]
  },
  {
   &quot;cell_type&quot;: &quot;markdown&quot;,
   &quot;metadata&quot;: {},
   &quot;source&quot;: [
    &quot;Finally we&#039;ll create the Spark instance and context&quot;
   ]
  },
  {
   &quot;cell_type&quot;: &quot;code&quot;,
   &quot;execution_count&quot;: null,
   &quot;metadata&quot;: {},
   &quot;outputs&quot;: [],
   &quot;source&quot;: [
    &quot;# import findspark\n&quot;,
    &quot;# findspark.init(\&quot;spark-3.0.0-preview2-bin-hadoop2.7\&quot;)# SPARK_HOMEfrom pyspark.sql import SparkSession\n&quot;,
    &quot;# from pyspark.sql import SparkSession\n&quot;,
    &quot;# spark = SparkSession.builder.master(\&quot;local[*]\&quot;).getOrCreate()\n&quot;,
    &quot;# sc = spark.sparkContext&quot;
   ]
  },
  {
   &quot;cell_type&quot;: &quot;markdown&quot;,
   &quot;metadata&quot;: {},
   &quot;source&quot;: [
    &quot;## &lt;a id=\&quot;running\&quot;&gt;Running Spark&lt;/id&gt;&quot;
   ]
  },
  {
   &quot;cell_type&quot;: &quot;markdown&quot;,
   &quot;metadata&quot;: {},
   &quot;source&quot;: [
    &quot;If you can run the following line, you&#039;ve properly installed and started Spark. This will show us the SparkContext `sc`:&quot;
   ]
  },
  {
   &quot;cell_type&quot;: &quot;code&quot;,
   &quot;execution_count&quot;: null,
   &quot;metadata&quot;: {},
   &quot;outputs&quot;: [],
   &quot;source&quot;: [
    &quot;sc&quot;
   ]
  },
  {
   &quot;cell_type&quot;: &quot;markdown&quot;,
   &quot;metadata&quot;: {},
   &quot;source&quot;: [
    &quot;You should see the Spark version (`v3.0.0-preview2`) and a link to the Spark UI, a dashboard which lets us monitor Spark&#039;s activity&quot;
   ]
  },
  {
   &quot;cell_type&quot;: &quot;markdown&quot;,
   &quot;metadata&quot;: {},
   &quot;source&quot;: [
    &quot;## &lt;a id=\&quot;RDDs\&quot;&gt;Warm up with RDDs&lt;/a&gt;\n&quot;,
    &quot;\n&quot;,
    &quot;We&#039;ll start with an example of manipulating Spark&#039;s [Resilient Distributed Datasets](<a href="https://spark.apache.org/docs/latest/rdd-programming-guide.html" class="_blanktarget">https://spark.apache.org/docs/latest/rdd-programming-guide.html</a>). We&#039;ll parallelize Python objects, but we could also use these tools to manipulate data stored in shared filesystems such as HDFS or HBase. Specifically, we&#039;ll compute pi using a [Monte Carlo Simulation](<a href="https://en.wikipedia.org/wiki/Monte_Carlo_method" class="_blanktarget">https://en.wikipedia.org/wiki/Monte_Carlo_method</a>).\n&quot;,
    &quot;\n&quot;,
    &quot;![alt text](<img class="filter_urltolink_image" alt="" src="http://www.physics.smu.edu/fattarus/pi.png" /> \&quot;Pi simulation\&quot;)&quot;
   ]
  },
  {
   &quot;cell_type&quot;: &quot;code&quot;,
   &quot;execution_count&quot;: null,
   &quot;metadata&quot;: {},
   &quot;outputs&quot;: [],
   &quot;source&quot;: [
    &quot;n_points = 1000\n&quot;,
    &quot;\n&quot;,
    &quot;points = sc.parallelize(range(n_points))\n&quot;,
    &quot;points&quot;
   ]
  },
  {
   &quot;cell_type&quot;: &quot;markdown&quot;,
   &quot;metadata&quot;: {},
   &quot;source&quot;: [
    &quot;As we can see, our python object `range(n_points)` has been converted to a Scala object through the PySpark context `sc`.&quot;
   ]
  },
  {
   &quot;cell_type&quot;: &quot;code&quot;,
   &quot;execution_count&quot;: null,
   &quot;metadata&quot;: {},
   &quot;outputs&quot;: [],
   &quot;source&quot;: [
    &quot;from random import random\n&quot;,
    &quot;\n&quot;,
    &quot;def generate_random_pt(_):\n&quot;,
    &quot;    x = random() * 2 - 1 # -&gt; Rnd number between -1 and 1\n&quot;,
    &quot;    y = random() * 2 - 1\n&quot;,
    &quot;    return x, y\n&quot;,
    &quot;\n&quot;,
    &quot;def is_inside_unary_circle(t):\n&quot;,
    &quot;    (x, y) = t\n&quot;,
    &quot;    return 1 if x ** 2 + y ** 2 &lt;= 1 else 0\n&quot;,
    &quot;\n&quot;,
    &quot;points = points.map(generate_random_pt)\n&quot;,
    &quot;\n&quot;,
    &quot;inside_points = points.filter(is_inside_unary_circle)&quot;
   ]
  },
  {
   &quot;cell_type&quot;: &quot;markdown&quot;,
   &quot;metadata&quot;: {},
   &quot;source&quot;: [
    &quot;Here we `map` the function `generate_random_pt` to our `points` RDD, applying it to each element. We then filter these points, `(x, y)` coordinates between -1 and 1, based on if they fit in a unary circle.&quot;
   ]
  },
  {
   &quot;cell_type&quot;: &quot;code&quot;,
   &quot;execution_count&quot;: null,
   &quot;metadata&quot;: {},
   &quot;outputs&quot;: [],
   &quot;source&quot;: [
    &quot;print(\&quot;Example point : {}\&quot;.format(inside_points.first()))&quot;
   ]
  },
  {
   &quot;cell_type&quot;: &quot;markdown&quot;,
   &quot;metadata&quot;: {},
   &quot;source&quot;: [
    &quot;By counting the number of points, divided by the total number of points, we get an estimation of the area inside the circle. The total area divided by the circular area should give us pi :&quot;
   ]
  },
  {
   &quot;cell_type&quot;: &quot;code&quot;,
   &quot;execution_count&quot;: null,
   &quot;metadata&quot;: {},
   &quot;outputs&quot;: [],
   &quot;source&quot;: [
    &quot;inside_area = inside_points.count()\n&quot;,
    &quot;overall_area = (1 - -1) * (1 - -1)\n&quot;,
    &quot;print(\&quot;Pi estimation is {}\&quot;.format(overall_area * inside_area\n&quot;,
    &quot;                                   / float(n_points)))&quot;
   ]
  },
  {
   &quot;cell_type&quot;: &quot;markdown&quot;,
   &quot;metadata&quot;: {},
   &quot;source&quot;: [
    &quot;By increasing the number of points, we get a better estimation. With Spark parallelization, this goes faster than if we were doing it serially. You can watch your Spark UI dashboard when launching this to see the computation live.&quot;
   ]
  },
  {
   &quot;cell_type&quot;: &quot;code&quot;,
   &quot;execution_count&quot;: null,
   &quot;metadata&quot;: {},
   &quot;outputs&quot;: [],
   &quot;source&quot;: [
    &quot;n_points = 10000\n&quot;,
    &quot;points = sc.parallelize(range(n_points))\n&quot;,
    &quot;points = points.map(generate_random_pt)\n&quot;,
    &quot;inside_points = points.filter(is_inside_unary_circle)&quot;
   ]
  },
  {
   &quot;cell_type&quot;: &quot;code&quot;,
   &quot;execution_count&quot;: null,
   &quot;metadata&quot;: {},
   &quot;outputs&quot;: [],
   &quot;source&quot;: [
    &quot;inside_area = inside_points.count()\n&quot;,
    &quot;print( \&quot;Pi estimation is {}\&quot;.format(overall_area*inside_area/float(n_points)) )&quot;
   ]
  },
  {
   &quot;cell_type&quot;: &quot;markdown&quot;,
   &quot;metadata&quot;: {},
   &quot;source&quot;: [
    &quot;&lt;div class=\&quot;alert alert-info\&quot;&gt;\n&quot;,
    &quot;    Reflection:\n&quot;,
    &quot;    &lt;ul&gt;\n&quot;,
    &quot;        &lt;li&gt;Monte Carlo analysis like this is considered &lt;i&gt;embarrasingly parallel&lt;/i&gt;. What about the function we defined makes it easy to run in parallel?&lt;/li&gt;\n&quot;,
    &quot;        &lt;li&gt;Re-run the previous cell, which is just the &lt;code&gt;count&lt;/code&gt; function. Why does this change the result?&lt;/li\n&quot;,
    &quot;    &lt;/ul&gt;\n&quot;,
    &quot;&lt;/div&gt;&quot;
   ]
  },
  {
   &quot;cell_type&quot;: &quot;markdown&quot;,
   &quot;metadata&quot;: {},
   &quot;source&quot;: [
    &quot;## &lt;a id=\&quot;persistent\&quot;&gt;Persistent RDDs&lt;/a&gt;\n&quot;,
    &quot;\n&quot;,
    &quot;In Spark, there are two classes of operations: *transformations* like `map` which create a new dataset and *actions* like `count` which return a value. &quot;
   ]
  },
  {
   &quot;cell_type&quot;: &quot;code&quot;,
   &quot;execution_count&quot;: null,
   &quot;metadata&quot;: {},
   &quot;outputs&quot;: [],
   &quot;source&quot;: [
    &quot;n_trials=1000000\n&quot;,
    &quot;n_throws=100\n&quot;,
    &quot;\n&quot;,
    &quot;pil_data = sc.parallelize(range(n_trials))\n&quot;,
    &quot;\n&quot;,
    &quot;def generate_play():\n&quot;,
    &quot;    return \&quot;heads\&quot; if random()&gt;0.5 else \&quot;tails\&quot;\n&quot;,
    &quot;\n&quot;,
    &quot;def generate_game(_):\n&quot;,
    &quot;    return [generate_play() for _ in range(n_throws)]\n&quot;,
    &quot;\n&quot;,
    &quot;pil_data = pil_data.map(generate_game)\n&quot;,
    &quot;\n&quot;,
    &quot;game = pil_data.first()\n&quot;,
    &quot;print(game)&quot;
   ]
  },
  {
   &quot;cell_type&quot;: &quot;code&quot;,
   &quot;execution_count&quot;: null,
   &quot;metadata&quot;: {},
   &quot;outputs&quot;: [],
   &quot;source&quot;: [
    &quot;def get_first(game):\n&quot;,
    &quot;    return game[0]&quot;
   ]
  },
  {
   &quot;cell_type&quot;: &quot;code&quot;,
   &quot;execution_count&quot;: null,
   &quot;metadata&quot;: {},
   &quot;outputs&quot;: [],
   &quot;source&quot;: [
    &quot;%%time\n&quot;,
    &quot;print(\&quot;Heads \&quot;, pil_data.map(get_first).filter(lambda res: res==\&quot;heads\&quot;).count())&quot;
   ]
  },
  {
   &quot;cell_type&quot;: &quot;markdown&quot;,
   &quot;metadata&quot;: {},
   &quot;source&quot;: [
    &quot;Here we use a MapReduce model to get the first flip of each game and then filter the games based on if the first flip is a heads. We can also count the number of tails flips: &quot;
   ]
  },
  {
   &quot;cell_type&quot;: &quot;code&quot;,
   &quot;execution_count&quot;: null,
   &quot;metadata&quot;: {},
   &quot;outputs&quot;: [],
   &quot;source&quot;: [
    &quot;%%time\n&quot;,
    &quot;print(\&quot;Tails \&quot;, pil_data.map(get_first).filter(lambda res: res==\&quot;tails\&quot;).count())&quot;
   ]
  },
  {
   &quot;cell_type&quot;: &quot;markdown&quot;,
   &quot;metadata&quot;: {},
   &quot;source&quot;: [
    &quot;These two reduce operations, counting the heads and tails, use the same map operation. To save the results from this mapping, we use `persist`. This will also speed up the computation, since the `map` function `get_first` is only applied once.&quot;
   ]
  },
  {
   &quot;cell_type&quot;: &quot;code&quot;,
   &quot;execution_count&quot;: null,
   &quot;metadata&quot;: {},
   &quot;outputs&quot;: [],
   &quot;source&quot;: [
    &quot;%%time\n&quot;,
    &quot;cached_rdd = pil_data.map(get_first).persist()\n&quot;,
    &quot;print(\&quot;Heads \&quot;, cached_rdd.filter(lambda res: res==\&quot;heads\&quot;).count())\n&quot;,
    &quot;print(\&quot;Tails \&quot;, cached_rdd.filter(lambda res: res==\&quot;tails\&quot;).count())&quot;
   ]
  },
  {
   &quot;cell_type&quot;: &quot;markdown&quot;,
   &quot;metadata&quot;: {},
   &quot;source&quot;: [
    &quot;&lt;div class=\&quot;alert alert-warning\&quot;&gt;\n&quot;,
    &quot;    Exercise:\n&quot;,
    &quot;    &lt;br&gt;\n&quot;,
    &quot;    Write functions which count if the majority of flips in a single game were heads or tails by defining &lt;code&gt;f_count&lt;/code&gt;, &lt;code&gt;heads_filter&lt;/code&gt;, and &lt;code&gt;tails_filter&lt;/code&gt;. Compare the speed of running these with a persistent RDD. You might want to lower &lt;code&gt;n_trials&lt;/code&gt; to speed up testing.\n&quot;,
    &quot;&lt;/div&gt;&quot;
   ]
  },
  {
   &quot;cell_type&quot;: &quot;code&quot;,
   &quot;execution_count&quot;: null,
   &quot;metadata&quot;: {},
   &quot;outputs&quot;: [],
   &quot;source&quot;: [
    &quot;import numpy as np\n&quot;,
    &quot;\n&quot;,
    &quot;def f_count(games):\n&quot;,
    &quot;    return np.unique(games, return_counts=True)[1].tolist() # TODO: remove\n&quot;,
    &quot;\n&quot;,
    &quot;def heads_filter(counts):\n&quot;,
    &quot;    return counts[0] &gt; n_throws / 2 # TODO: remove\n&quot;,
    &quot;\n&quot;,
    &quot;def tails_filter(counts):\n&quot;,
    &quot;    return counts[1] &gt; n_throws / 2 # TODO: remove&quot;
   ]
  },
  {
   &quot;cell_type&quot;: &quot;code&quot;,
   &quot;execution_count&quot;: null,
   &quot;metadata&quot;: {},
   &quot;outputs&quot;: [],
   &quot;source&quot;: [
    &quot;%%time\n&quot;,
    &quot;pil_data.map(f_count).filter(heads_filter).count()&quot;
   ]
  },
  {
   &quot;cell_type&quot;: &quot;code&quot;,
   &quot;execution_count&quot;: null,
   &quot;metadata&quot;: {},
   &quot;outputs&quot;: [],
   &quot;source&quot;: [
    &quot;%%time\n&quot;,
    &quot;pil_data.map(f_count).filter(tails_filter).count()&quot;
   ]
  },
  {
   &quot;cell_type&quot;: &quot;code&quot;,
   &quot;execution_count&quot;: null,
   &quot;metadata&quot;: {},
   &quot;outputs&quot;: [],
   &quot;source&quot;: [
    &quot;%%time\n&quot;,
    &quot;cached_rdd = pil_data.map(f_count)\n&quot;,
    &quot;cached_rdd.filter(heads_filter).count()\n&quot;,
    &quot;cached_rdd.persist()\n&quot;,
    &quot;cached_rdd.filter(tails_filter).count()&quot;
   ]
  },
  {
   &quot;cell_type&quot;: &quot;markdown&quot;,
   &quot;metadata&quot;: {},
   &quot;source&quot;: [
    &quot;&lt;div class=\&quot;alert alert-info\&quot;&gt;\n&quot;,
    &quot;    Reflection:\n&quot;,
    &quot;    &lt;ul&gt;\n&quot;,
    &quot;        &lt;li&gt;Is &lt;code&gt;filter&lt;/code&gt; a transformation or an action?&lt;/li&gt;\n&quot;,
    &quot;        &lt;li&gt;Consider the following:&lt;br&gt;\n&quot;,
    &quot;&lt;code&gt;cached_rdd = pil_data.map(f_count)\n&quot;,
    &quot;cached_rdd.filter(heads_filter).count()\n&quot;,
    &quot;cached_rdd.persist()\n&quot;,
    &quot;cached_rdd.filter(tails_filter).count()&lt;/code&gt;&lt;br&gt;\n&quot;,
    &quot;            Is this different? How?\n&quot;,
    &quot;    &lt;/ul&gt;\n&quot;,
    &quot;&lt;/div&gt;&quot;
   ]
  },
  {
   &quot;cell_type&quot;: &quot;markdown&quot;,
   &quot;metadata&quot;: {},
   &quot;source&quot;: [
    &quot;## &lt;a id=\&quot;kmeans\&quot;&gt;Distributed K-Means&lt;/a&gt;&quot;
   ]
  },
  {
   &quot;cell_type&quot;: &quot;markdown&quot;,
   &quot;metadata&quot;: {},
   &quot;source&quot;: [
    &quot;With the MapReduce functionality we can see how some algorithms can be distributed, for example K-Means. To show this, we&#039;ll start with some randomly generated points:&quot;
   ]
  },
  {
   &quot;cell_type&quot;: &quot;code&quot;,
   &quot;execution_count&quot;: null,
   &quot;metadata&quot;: {},
   &quot;outputs&quot;: [],
   &quot;source&quot;: [
    &quot;from random import choice\n&quot;,
    &quot;import numpy as np\n&quot;,
    &quot;\n&quot;,
    &quot;means = [0, 1, 5, -2]\n&quot;,
    &quot;\n&quot;,
    &quot;def generate_random_pt(_):    \n&quot;,
    &quot;    mean = choice(means)    \n&quot;,
    &quot;    return np.random.randn() + mean\n&quot;,
    &quot;\n&quot;,
    &quot;n_points = 10000\n&quot;,
    &quot;points = sc.parallelize(range(n_points))\n&quot;,
    &quot;points = points.map(generate_random_pt)\n&quot;,
    &quot;points.first()&quot;
   ]
  },
  {
   &quot;cell_type&quot;: &quot;markdown&quot;,
   &quot;metadata&quot;: {},
   &quot;source&quot;: [
    &quot;Our map function will calculate the nearest cluster for each point, based on the current centroids&quot;
   ]
  },
  {
   &quot;cell_type&quot;: &quot;code&quot;,
   &quot;execution_count&quot;: null,
   &quot;metadata&quot;: {},
   &quot;outputs&quot;: [],
   &quot;source&quot;: [
    &quot;def closest_to(point, centroids):\n&quot;,
    &quot;    distances = [(point - c)**2 for c in centroids]\n&quot;,
    &quot;    return np.argmin(distances)&quot;
   ]
  },
  {
   &quot;cell_type&quot;: &quot;code&quot;,
   &quot;execution_count&quot;: null,
   &quot;metadata&quot;: {},
   &quot;outputs&quot;: [],
   &quot;source&quot;: []
  },
  {
   &quot;cell_type&quot;: &quot;code&quot;,
   &quot;execution_count&quot;: null,
   &quot;metadata&quot;: {},
   &quot;outputs&quot;: [],
   &quot;source&quot;: [
    &quot;N = 4 # Number of centroids\n&quot;,
    &quot;centroids = []\n&quot;,
    &quot;for i in range(N):\n&quot;,
    &quot;    centroids.append(20 * np.random.rand() - 10)&quot;
   ]
  },
  {
   &quot;cell_type&quot;: &quot;code&quot;,
   &quot;execution_count&quot;: null,
   &quot;metadata&quot;: {},
   &quot;outputs&quot;: [],
   &quot;source&quot;: [
    &quot;closest_to(points.first(), centroids)&quot;
   ]
  },
  {
   &quot;cell_type&quot;: &quot;markdown&quot;,
   &quot;metadata&quot;: {},
   &quot;source&quot;: [
    &quot;Our K-means algorithm will look like this:\n&quot;,
    &quot;* Compute centroids of each cluster\n&quot;,
    &quot;* Update centroids\n&quot;,
    &quot;* Repeat&quot;
   ]
  },
  {
   &quot;cell_type&quot;: &quot;markdown&quot;,
   &quot;metadata&quot;: {},
   &quot;source&quot;: [
    &quot;First transformation:\n&quot;,
    &quot; - Compute centroid for each datapoint\n&quot;,
    &quot; - datapoint -&gt; Tuple ( closest centroid Index , ( datapoint, 1 ) )&quot;
   ]
  },
  {
   &quot;cell_type&quot;: &quot;code&quot;,
   &quot;execution_count&quot;: null,
   &quot;metadata&quot;: {},
   &quot;outputs&quot;: [],
   &quot;source&quot;: [
    &quot;rdd = points.map(lambda p: (closest_to(p, centroids), (p, 1)))\n&quot;,
    &quot;rdd.first()&quot;
   ]
  },
  {
   &quot;cell_type&quot;: &quot;markdown&quot;,
   &quot;metadata&quot;: {},
   &quot;source&quot;: [
    &quot;Reduce By Key: Aggregate for each centroid\n&quot;,
    &quot; - centroid Index , ( sum of datapoints , number of datapoints )\n&quot;,
    &quot; - ( datapoint1, pop1 ) and ( datapoint2, pop2 ) =&gt; (datapoint1 + datapoint2 , pop1+pop2)&quot;
   ]
  },
  {
   &quot;cell_type&quot;: &quot;code&quot;,
   &quot;execution_count&quot;: null,
   &quot;metadata&quot;: {},
   &quot;outputs&quot;: [],
   &quot;source&quot;: [
    &quot;stats = rdd.reduceByKey(lambda a, b: (a[0]+b[0], a[1]+b[1]))\n&quot;,
    &quot;stats.count()&quot;
   ]
  },
  {
   &quot;cell_type&quot;: &quot;markdown&quot;,
   &quot;metadata&quot;: {},
   &quot;source&quot;: [
    &quot;So that at the end, \n&quot;,
    &quot; - (cluster Index, (sum of datapoint in cluster , number of datapoints in cluster) )\n&quot;,
    &quot; - we can compute the centroid&quot;
   ]
  },
  {
   &quot;cell_type&quot;: &quot;code&quot;,
   &quot;execution_count&quot;: null,
   &quot;metadata&quot;: {},
   &quot;outputs&quot;: [],
   &quot;source&quot;: [
    &quot;for stat in stats.take(N):\n&quot;,
    &quot;    index, (data_sum, data_count) = stat\n&quot;,
    &quot;    new_centroid = data_sum / data_count\n&quot;,
    &quot;    centroids[index] = data_sum / data_count&quot;
   ]
  },
  {
   &quot;cell_type&quot;: &quot;code&quot;,
   &quot;execution_count&quot;: null,
   &quot;metadata&quot;: {},
   &quot;outputs&quot;: [],
   &quot;source&quot;: [
    &quot;centroids&quot;
   ]
  },
  {
   &quot;cell_type&quot;: &quot;markdown&quot;,
   &quot;metadata&quot;: {},
   &quot;source&quot;: [
    &quot;We&#039;ll repeat this a few times to see if it converges:&quot;
   ]
  },
  {
   &quot;cell_type&quot;: &quot;code&quot;,
   &quot;execution_count&quot;: null,
   &quot;metadata&quot;: {},
   &quot;outputs&quot;: [],
   &quot;source&quot;: [
    &quot;for i in range(10):\n&quot;,
    &quot;    rdd = points.map(lambda p: (closest_to(p, centroids), (p, 1)))\n&quot;,
    &quot;    rdd.first()\n&quot;,
    &quot;    stats = rdd.reduceByKey(lambda a, b: (a[0]+b[0], a[1]+b[1]))\n&quot;,
    &quot;    stats.count()\n&quot;,
    &quot;    for stat in stats.take(N):\n&quot;,
    &quot;        index, (data_sum, data_count) = stat\n&quot;,
    &quot;        new_centroid = data_sum / data_count\n&quot;,
    &quot;        centroids[index] = data_sum / data_count\n&quot;,
    &quot;    print(centroids)&quot;
   ]
  },
  {
   &quot;cell_type&quot;: &quot;markdown&quot;,
   &quot;metadata&quot;: {},
   &quot;source&quot;: [
    &quot;This seems like it works! However, if we really use Spark to do K-means, we should use [the Spark ML class](<a href="https://spark.apache.org/docs/latest/api/python/_modules/pyspark/ml/clustering.html#KMeans)&quot" class="_blanktarget">https://spark.apache.org/docs/latest/api/python/_modules/pyspark/ml/clustering.html#KMeans)&quot</a>;
   ]
  },
  {
   &quot;cell_type&quot;: &quot;markdown&quot;,
   &quot;metadata&quot;: {},
   &quot;source&quot;: [
    &quot;## &lt;a id=\&quot;DataFrames\&quot;&gt;DataFrames and Queries&lt;/a&gt;&quot;
   ]
  },
  {
   &quot;cell_type&quot;: &quot;markdown&quot;,
   &quot;metadata&quot;: {},
   &quot;source&quot;: [
    &quot;Spark allows for structured data manipulation using SQL and DataFrames. Spark DataFrames are similar to Pandas DataFrames, and we&#039;ll look at conversion next. DataFrames can be loaded from databases, distributed filesystems, or memory. We can use `pyarrow` to convert python memory objects to Spark objects, notably Pandas DataFrames to Spark DataFrames. First we must configure Spark to use Arrow:&quot;
   ]
  },
  {
   &quot;cell_type&quot;: &quot;code&quot;,
   &quot;execution_count&quot;: null,
   &quot;metadata&quot;: {},
   &quot;outputs&quot;: [],
   &quot;source&quot;: [
    &quot;spark.conf.set(\&quot;spark.sql.execution.arrow.enabled\&quot;, \&quot;true\&quot;)&quot;
   ]
  },
  {
   &quot;cell_type&quot;: &quot;code&quot;,
   &quot;execution_count&quot;: null,
   &quot;metadata&quot;: {},
   &quot;outputs&quot;: [],
   &quot;source&quot;: [
    &quot;import pandas as pd\n&quot;,
    &quot;# Generate a Pandas DataFrame\n&quot;,
    &quot;pdf = pd.DataFrame(np.random.rand(100, 3))\n&quot;,
    &quot;pdf.head()&quot;
   ]
  },
  {
   &quot;cell_type&quot;: &quot;markdown&quot;,
   &quot;metadata&quot;: {},
   &quot;source&quot;: [
    &quot;`pd` is just a normal Pandas DataFrame, and we would not be able to do parallel manipulation on it. We&#039;ll convert it to a Spark DataFrame to allow for Spark SQL queries.&quot;
   ]
  },
  {
   &quot;cell_type&quot;: &quot;code&quot;,
   &quot;execution_count&quot;: null,
   &quot;metadata&quot;: {},
   &quot;outputs&quot;: [],
   &quot;source&quot;: [
    &quot;# Create a Spark DataFrame from a Pandas DataFrame using Arrow\n&quot;,
    &quot;df = spark.createDataFrame(pdf)\n&quot;,
    &quot;df&quot;
   ]
  },
  {
   &quot;cell_type&quot;: &quot;markdown&quot;,
   &quot;metadata&quot;: {},
   &quot;source&quot;: [
    &quot;We can also convert Spark DataFrames back to Pandas DataFrames, for example after heavy calculation is finished.&quot;
   ]
  },
  {
   &quot;cell_type&quot;: &quot;code&quot;,
   &quot;execution_count&quot;: null,
   &quot;metadata&quot;: {},
   &quot;outputs&quot;: [],
   &quot;source&quot;: [
    &quot;# Convert the Spark DataFrame back to a Pandas DataFrame using Arrow\n&quot;,
    &quot;result_pdf = df.select(\&quot;*\&quot;).toPandas()\n&quot;,
    &quot;result_pdf.head()&quot;
   ]
  },
  {
   &quot;cell_type&quot;: &quot;markdown&quot;,
   &quot;metadata&quot;: {},
   &quot;source&quot;: [
    &quot;We can also convert RDDs, which we used in the last section, directly to DataFrames. We&#039;ll download some example data, the famous [wine](<a href="https://archive.ics.uci.edu/ml/datasets/Wine" class="_blanktarget">https://archive.ics.uci.edu/ml/datasets/Wine</a>) dataset, and convert it to an RDD, then a DataFrame. This dataset has various chemical measurements of three different types of wine.&quot;
   ]
  },
  {
   &quot;cell_type&quot;: &quot;code&quot;,
   &quot;execution_count&quot;: null,
   &quot;metadata&quot;: {},
   &quot;outputs&quot;: [],
   &quot;source&quot;: [
    &quot;!wget <a href="https://archive.ics.uci.edu/ml/machine-learning-databases/wine/wine.data&quot" class="_blanktarget">https://archive.ics.uci.edu/ml/machine-learning-databases/wine/wine.data&quot</a>;
   ]
  },
  {
   &quot;cell_type&quot;: &quot;markdown&quot;,
   &quot;metadata&quot;: {},
   &quot;source&quot;: [
    &quot;We read this into our Spark context and can use a `map` function to process it. These are RDDs:&quot;
   ]
  },
  {
   &quot;cell_type&quot;: &quot;code&quot;,
   &quot;execution_count&quot;: null,
   &quot;metadata&quot;: {},
   &quot;outputs&quot;: [],
   &quot;source&quot;: [
    &quot;lines = sc.textFile(\&quot;wine.data\&quot;)\n&quot;,
    &quot;raw = lines.map(lambda l: l.split(\&quot;,\&quot;))\n&quot;,
    &quot;raw.first()&quot;
   ]
  },
  {
   &quot;cell_type&quot;: &quot;markdown&quot;,
   &quot;metadata&quot;: {},
   &quot;source&quot;: [
    &quot;We start by convering our RDD to a list of Row objects. We&#039;ll still have an RDD, but of Rows inside.&quot;
   ]
  },
  {
   &quot;cell_type&quot;: &quot;code&quot;,
   &quot;execution_count&quot;: null,
   &quot;metadata&quot;: {},
   &quot;outputs&quot;: [],
   &quot;source&quot;: [
    &quot;from pyspark.sql import Row\n&quot;,
    &quot;wines = raw.map(\n&quot;,
    &quot;    lambda p: Row(alcohol=int(p[0]),\n&quot;,
    &quot;                  malic_acid=float(p[1]),\n&quot;,
    &quot;                  ash=float(p[2]),\n&quot;,
    &quot;                  alcalinity=float(p[3]),\n&quot;,
    &quot;                  magnesium=float(p[4]),\n&quot;,
    &quot;                  phenols=float(p[5]),\n&quot;,
    &quot;                  flavanoids=float(p[6]),\n&quot;,
    &quot;                  nonflavanoids=float(p[7]),\n&quot;,
    &quot;                  proanthocyanins=float(p[8]),\n&quot;,
    &quot;                  color=float(p[9]),\n&quot;,
    &quot;                  hue=float(p[10]),\n&quot;,
    &quot;                  od=float(p[11]),\n&quot;,
    &quot;                  proline=float(p[12])))\n&quot;,
    &quot;wines.take(3)&quot;
   ]
  },
  {
   &quot;cell_type&quot;: &quot;markdown&quot;,
   &quot;metadata&quot;: {},
   &quot;source&quot;: [
    &quot;This can now be converted to a DataFrame:&quot;
   ]
  },
  {
   &quot;cell_type&quot;: &quot;code&quot;,
   &quot;execution_count&quot;: null,
   &quot;metadata&quot;: {},
   &quot;outputs&quot;: [],
   &quot;source&quot;: [
    &quot;df = spark.createDataFrame(wines)\n&quot;,
    &quot;df&quot;
   ]
  },
  {
   &quot;cell_type&quot;: &quot;markdown&quot;,
   &quot;metadata&quot;: {},
   &quot;source&quot;: [
    &quot;A Spark DataFrame can act like a standard database, allowing for operations such as grouping. We can see the distribution of classes in this dataset by grouping on the `alcohol` label:&quot;
   ]
  },
  {
   &quot;cell_type&quot;: &quot;code&quot;,
   &quot;execution_count&quot;: null,
   &quot;metadata&quot;: {},
   &quot;outputs&quot;: [],
   &quot;source&quot;: [
    &quot;df.groupBy(\&quot;alcohol\&quot;).count().show()&quot;
   ]
  },
  {
   &quot;cell_type&quot;: &quot;markdown&quot;,
   &quot;metadata&quot;: {},
   &quot;source&quot;: [
    &quot;But the DataFrame also allows for transformation and action operations, like RDDs. Since we have multiple columns, we can specify which columns to apply the operations to. For example, we can filter based on certain features:&quot;
   ]
  },
  {
   &quot;cell_type&quot;: &quot;code&quot;,
   &quot;execution_count&quot;: null,
   &quot;metadata&quot;: {},
   &quot;outputs&quot;: [],
   &quot;source&quot;: [
    &quot;df.filter((df[\&quot;ash\&quot;] &lt;= 3.0) &amp; (df[\&quot;alcohol\&quot;] &gt;= 1)).count()&quot;
   ]
  },
  {
   &quot;cell_type&quot;: &quot;markdown&quot;,
   &quot;metadata&quot;: {},
   &quot;source&quot;: [
    &quot;We can also directly use SQL to query a Spark DataFrame. We first need to register the DataFrame in the Spark context.&quot;
   ]
  },
  {
   &quot;cell_type&quot;: &quot;code&quot;,
   &quot;execution_count&quot;: null,
   &quot;metadata&quot;: {},
   &quot;outputs&quot;: [],
   &quot;source&quot;: [
    &quot;df.createOrReplaceTempView(\&quot;wines\&quot;)\n&quot;,
    &quot;spark.sql(\&quot;SELECT alcohol, ash FROM wines WHERE ash &lt;= 3.0 AND alcohol &gt;= 1\&quot;).count()&quot;
   ]
  },
  {
   &quot;cell_type&quot;: &quot;markdown&quot;,
   &quot;metadata&quot;: {},
   &quot;source&quot;: [
    &quot;Let&#039;s consider feature scaling the `ash` column. We&#039;ll do this by hand, but Spark ML provides the [StandardScaler](<a href="https://spark.apache.org/docs/latest/api/python/pyspark.ml.html#pyspark.ml.feature.StandardScaler" class="_blanktarget">https://spark.apache.org/docs/latest/api/python/pyspark.ml.html#pyspark.ml.feature.StandardScaler</a>) to do it more easily. First, we aggregate the min and max values:&quot;
   ]
  },
  {
   &quot;cell_type&quot;: &quot;code&quot;,
   &quot;execution_count&quot;: null,
   &quot;metadata&quot;: {},
   &quot;outputs&quot;: [],
   &quot;source&quot;: [
    &quot;max_ash = df.agg({\&quot;ash\&quot;: \&quot;max\&quot;}).collect()[0][\&quot;max(ash)\&quot;]\n&quot;,
    &quot;min_ash = df.agg({\&quot;ash\&quot;: \&quot;min\&quot;}).collect()[0][\&quot;min(ash)\&quot;]\n&quot;,
    &quot;max_ash, min_ash&quot;
   ]
  },
  {
   &quot;cell_type&quot;: &quot;markdown&quot;,
   &quot;metadata&quot;: {},
   &quot;source&quot;: [
    &quot;Next, we&#039;ll define a new function and register it. The `udf` module allows us to define any function to apply to our data while still using the Spark SQL framework.&quot;
   ]
  },
  {
   &quot;cell_type&quot;: &quot;code&quot;,
   &quot;execution_count&quot;: null,
   &quot;metadata&quot;: {},
   &quot;outputs&quot;: [],
   &quot;source&quot;: [
    &quot;from pyspark.sql.functions import udf\n&quot;,
    &quot;@udf(\&quot;double\&quot;)\n&quot;,
    &quot;def normalize(s):\n&quot;,
    &quot;  return (s - min_ash) / (max_ash - min_ash)&quot;
   ]
  },
  {
   &quot;cell_type&quot;: &quot;code&quot;,
   &quot;execution_count&quot;: null,
   &quot;metadata&quot;: {},
   &quot;outputs&quot;: [],
   &quot;source&quot;: [
    &quot;normed = df.select(\&quot;ash\&quot;, normalize(\&quot;ash\&quot;).alias(\&quot;ash_normed\&quot;))\n&quot;,
    &quot;normed.take(3)&quot;
   ]
  },
  {
   &quot;cell_type&quot;: &quot;markdown&quot;,
   &quot;metadata&quot;: {},
   &quot;source&quot;: [
    &quot;We now have a new DataFrame with the normalized ash values. Here we&#039;ve been using a small dataset for an example, but the true benefits of Spark show when we&#039;re using large datasets distributed over many nodes. Everything we&#039;ve just shown would be possible with distributed data, and Spark will automatically parallelize certain processing tasks.&quot;
   ]
  },
  {
   &quot;cell_type&quot;: &quot;markdown&quot;,
   &quot;metadata&quot;: {},
   &quot;source&quot;: [
    &quot;&lt;div class=\&quot;alert alert-info\&quot;&gt;\n&quot;,
    &quot;Spark is a general computing framework which excels at performance and is useful for a variety of tasks. While we briefly mentioned its `ml` package, it was not specifically developped for ML. Next, we&#039;ll look at Dask, which was made specifically for Machine Learning in Python.\n&quot;,
    &quot;&lt;/div&gt;&quot;
   ]
  }
 ],
 &quot;metadata&quot;: {
  &quot;kernelspec&quot;: {
   &quot;display_name&quot;: &quot;Python 3&quot;,
   &quot;language&quot;: &quot;python&quot;,
   &quot;name&quot;: &quot;python3&quot;
  },
  &quot;language_info&quot;: {
   &quot;codemirror_mode&quot;: {
    &quot;name&quot;: &quot;ipython&quot;,
    &quot;version&quot;: 3
   },
   &quot;file_extension&quot;: &quot;.py&quot;,
   &quot;mimetype&quot;: &quot;text/x-python&quot;,
   &quot;name&quot;: &quot;python&quot;,
   &quot;nbconvert_exporter&quot;: &quot;python&quot;,
   &quot;pygments_lexer&quot;: &quot;ipython3&quot;,
   &quot;version&quot;: &quot;3.7.6&quot;
  }
 },
 &quot;nbformat&quot;: 4,
 &quot;nbformat_minor&quot;: 1
}
</div></pre>