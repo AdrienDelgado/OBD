{
 "cells": [
  {
   "cell_type": "markdown",
   "id": "martial-stable",
   "metadata": {},
   "source": [
    "# Welcome to the OBD SDD BE!\n",
    "\n",
    "Today, the goal is to understand how a distributed system can be useful when dealing with medium to large scale data sets.  \n",
    "We'll see that Dask start to be nice as soon as the Data we need to process doesn't quite fit in memory, but also if we\n",
    "need to launch several computations in parallel.\n",
    "\n",
    "In this evaluation, you will:\n",
    "- Use Dask to read and understand the several gigabytes input dataset in a interactive way,\n",
    "- Preprocess the data in a distributed way: cleaning it up and adding some useful features,\n",
    "- Launch some model training that can be parallelized,\n",
    "- Reduce the dataset and train more accurate models on less Data,\n",
    "- Do an hyper parameter search to find the best model on a small sample of Data.\n",
    "\n",
    "In order to run and fill this notebook, you'll need to first deploy a Dask enabled Kubernetes cluster as seen last week. So please use the Kubernetes_DaskHub notebook for the steps to do it. __Be careful, it has been updated to use a Docker image containing ML Libraries since the last time!__.\n",
    "\n",
    "Once the Jupyterhub is up, you can clone the OBD directory from a Jupyterlab terminal to get this notebook, and select the default kernel.\n",
    "```\n",
    "git clone https://github.com/SupaeroDataScience/OBD.git\n",
    "```"
   ]
  },
  {
   "cell_type": "markdown",
   "id": "angry-elimination",
   "metadata": {},
   "source": [
    "## The Dataset\n",
    "\n",
    "It is some statistics about NY Taxi cabs. \n",
    "\n",
    "See https://www.kaggle.com/c/new-york-city-taxi-fare-prediction/overview, or https://www.kaggle.com/c/new-york-city-taxi-fare-prediction/data.\n",
    "        \n",
    "The goal of this evaluation will be to generate a model using machine learning technics that will predict the fare amount\n",
    "of a taxi ride given the other input parameters we have.\n",
    "\n",
    "The model will be evaluated using the Root mean squared error algorithm:  \n",
    "https://www.kaggle.com/c/new-york-city-taxi-fare-prediction/overview/evaluation."
   ]
  },
  {
   "cell_type": "markdown",
   "id": "super-lodging",
   "metadata": {},
   "source": [
    "## Try to analyze the Data using Kaggles'start-up code\n",
    "\n",
    "As an introduction, we'll use Kaggle starters'code to get some insights on the data set and\n",
    "computations we'll do and measure pandas library (non parallelized access) performance.\n",
    "\n",
    "See https://www.kaggle.com/dster/nyc-taxi-fare-starter-kernel-simple-linear-model where this comes from.\n",
    "\n",
    "On our data set (train and test available in gs://obd-dask), we'll see that with Kaggle method, we don't obtain a really good evaluation."
   ]
  },
  {
   "cell_type": "markdown",
   "id": "discrete-wheat",
   "metadata": {},
   "source": [
    "#### Reading the data with pandas\n",
    "\n",
    "We're reading only about 20% from the whole data set."
   ]
  },
  {
   "cell_type": "code",
   "execution_count": 1,
   "id": "worthy-bathroom",
   "metadata": {},
   "outputs": [],
   "source": [
    "import pandas as pd"
   ]
  },
  {
   "cell_type": "code",
   "execution_count": 2,
   "id": "extended-access",
   "metadata": {},
   "outputs": [
    {
     "name": "stdout",
     "output_type": "stream",
     "text": [
      "CPU times: user 451 ms, sys: 70 ms, total: 521 ms\n",
      "Wall time: 9.64 s\n"
     ]
    },
    {
     "data": {
      "text/plain": [
       "key                   object\n",
       "fare_amount          float64\n",
       "pickup_datetime       object\n",
       "pickup_longitude     float64\n",
       "pickup_latitude      float64\n",
       "dropoff_longitude    float64\n",
       "dropoff_latitude     float64\n",
       "passenger_count        int64\n",
       "dtype: object"
      ]
     },
     "execution_count": 2,
     "metadata": {},
     "output_type": "execute_result"
    }
   ],
   "source": [
    "%%time\n",
    "import pandas as pd\n",
    "train_df =  pd.read_csv('gs://obd-dask/train.csv', nrows = 10_000)\n",
    "train_df.dtypes"
   ]
  },
  {
   "cell_type": "markdown",
   "id": "drawn-miniature",
   "metadata": {},
   "source": [
    "#### Analysing dataset, adding some feature and droping null values\n",
    "\n",
    "Let's see if we can see some links between passenger count and fare amount?"
   ]
  },
  {
   "cell_type": "code",
   "execution_count": 3,
   "id": "recorded-kitchen",
   "metadata": {},
   "outputs": [
    {
     "name": "stdout",
     "output_type": "stream",
     "text": [
      "CPU times: user 4.57 ms, sys: 510 µs, total: 5.08 ms\n",
      "Wall time: 4.5 ms\n"
     ]
    },
    {
     "data": {
      "text/plain": [
       "passenger_count\n",
       "0    10.680645\n",
       "1    11.292387\n",
       "2    11.899023\n",
       "3    11.616425\n",
       "4    12.954208\n",
       "5    11.253417\n",
       "6    12.571405\n",
       "Name: fare_amount, dtype: float64"
      ]
     },
     "execution_count": 3,
     "metadata": {},
     "output_type": "execute_result"
    }
   ],
   "source": [
    "%%time\n",
    "train_df.groupby(train_df.passenger_count).fare_amount.mean()"
   ]
  },
  {
   "cell_type": "markdown",
   "id": "major-escape",
   "metadata": {},
   "source": [
    "Maybe adding some feature about the distance of the trip could be a good idea?"
   ]
  },
  {
   "cell_type": "code",
   "execution_count": 4,
   "id": "significant-yeast",
   "metadata": {},
   "outputs": [
    {
     "name": "stdout",
     "output_type": "stream",
     "text": [
      "CPU times: user 8.32 ms, sys: 2.1 ms, total: 10.4 ms\n",
      "Wall time: 8.49 ms\n"
     ]
    }
   ],
   "source": [
    "%%time\n",
    "# 'abs_diff_latitude' reprensenting the \"Manhattan vector\" from\n",
    "# the pickup location to the dropoff location.\n",
    "def add_travel_vector_features(df):\n",
    "    df['abs_diff_longitude'] = (df.dropoff_longitude - df.pickup_longitude).abs()\n",
    "    df['abs_diff_latitude'] = (df.dropoff_latitude - df.pickup_latitude).abs()\n",
    "\n",
    "add_travel_vector_features(train_df)"
   ]
  },
  {
   "cell_type": "markdown",
   "id": "artistic-prediction",
   "metadata": {},
   "source": [
    "Are there some undefined values?"
   ]
  },
  {
   "cell_type": "code",
   "execution_count": 5,
   "id": "electoral-sucking",
   "metadata": {},
   "outputs": [
    {
     "name": "stdout",
     "output_type": "stream",
     "text": [
      "key                   0\n",
      "fare_amount           0\n",
      "pickup_datetime       0\n",
      "pickup_longitude      0\n",
      "pickup_latitude       0\n",
      "dropoff_longitude     0\n",
      "dropoff_latitude      0\n",
      "passenger_count       0\n",
      "abs_diff_longitude    0\n",
      "abs_diff_latitude     0\n",
      "dtype: int64\n",
      "CPU times: user 7.14 ms, sys: 1.03 ms, total: 8.17 ms\n",
      "Wall time: 6.53 ms\n"
     ]
    }
   ],
   "source": [
    "%%time\n",
    "print(train_df.isnull().sum())"
   ]
  },
  {
   "cell_type": "code",
   "execution_count": 6,
   "id": "fifteen-upper",
   "metadata": {},
   "outputs": [
    {
     "name": "stdout",
     "output_type": "stream",
     "text": [
      "Old size: 10000\n",
      "New size: 10000\n",
      "CPU times: user 7.58 ms, sys: 2.87 ms, total: 10.5 ms\n",
      "Wall time: 8.1 ms\n"
     ]
    }
   ],
   "source": [
    "%%time\n",
    "print('Old size: %d' % len(train_df))\n",
    "train_df = train_df.dropna(how = 'any', axis = 'rows')\n",
    "print('New size: %d' % len(train_df))"
   ]
  },
  {
   "cell_type": "markdown",
   "id": "controversial-finder",
   "metadata": {},
   "source": [
    "#### Quick analyze on new features and clean outliers"
   ]
  },
  {
   "cell_type": "code",
   "execution_count": 8,
   "id": "transsexual-mexico",
   "metadata": {},
   "outputs": [
    {
     "name": "stdout",
     "output_type": "stream",
     "text": [
      "CPU times: user 41 ms, sys: 5.49 ms, total: 46.5 ms\n",
      "Wall time: 40.2 ms\n"
     ]
    },
    {
     "data": {
      "image/png": "[encoded data removed]",
      "text/plain": [
       "<Figure size 432x288 with 1 Axes>"
      ]
     },
     "metadata": {
      "needs_background": "light"
     },
     "output_type": "display_data"
    }
   ],
   "source": [
    "%%time\n",
    "plot = train_df.iloc[:2000].plot.scatter('abs_diff_longitude', 'abs_diff_latitude')"
   ]
  },
  {
   "cell_type": "code",
   "execution_count": 9,
   "id": "regular-camping",
   "metadata": {},
   "outputs": [
    {
     "name": "stdout",
     "output_type": "stream",
     "text": [
      "Old size: 10000\n",
      "New size: 9970\n",
      "CPU times: user 3.48 ms, sys: 3.15 ms, total: 6.63 ms\n",
      "Wall time: 4.86 ms\n"
     ]
    }
   ],
   "source": [
    "%%time\n",
    "print('Old size: %d' % len(train_df))\n",
    "train_df = train_df[(train_df.abs_diff_longitude < 5.0) & (train_df.abs_diff_latitude < 5.0)]\n",
    "print('New size: %d' % len(train_df))"
   ]
  },
  {
   "cell_type": "markdown",
   "id": "blessed-tablet",
   "metadata": {},
   "source": [
    "#### Get training features and results"
   ]
  },
  {
   "cell_type": "code",
   "execution_count": 10,
   "id": "micro-frame",
   "metadata": {},
   "outputs": [
    {
     "name": "stdout",
     "output_type": "stream",
     "text": [
      "(9970, 3)\n",
      "(9970,)\n",
      "CPU times: user 1.6 ms, sys: 904 µs, total: 2.5 ms\n",
      "Wall time: 1.53 ms\n"
     ]
    }
   ],
   "source": [
    "%%time\n",
    "import numpy as np\n",
    "\n",
    "# using the travel vector, plus a 1.0 for a constant bias term.\n",
    "def get_input_matrix(df):\n",
    "    return np.column_stack((df.abs_diff_longitude, df.abs_diff_latitude, np.ones(len(df))))\n",
    "\n",
    "train_X = get_input_matrix(train_df)\n",
    "train_y = np.array(train_df['fare_amount'])\n",
    "\n",
    "print(train_X.shape)\n",
    "print(train_y.shape)"
   ]
  },
  {
   "cell_type": "markdown",
   "id": "imported-property",
   "metadata": {},
   "source": [
    "#### Train a simple linear model using Numpy"
   ]
  },
  {
   "cell_type": "code",
   "execution_count": 11,
   "id": "thirty-dubai",
   "metadata": {},
   "outputs": [
    {
     "name": "stdout",
     "output_type": "stream",
     "text": [
      "[175.14532439  83.27699504   5.69605134]\n",
      "CPU times: user 1.41 ms, sys: 102 µs, total: 1.52 ms\n",
      "Wall time: 1.35 ms\n"
     ]
    }
   ],
   "source": [
    "%%time\n",
    "# The lstsq function returns several things, and we only care about the actual weight vector w.\n",
    "(w, _, _, _) = np.linalg.lstsq(train_X, train_y, rcond = None)\n",
    "print(w)"
   ]
  },
  {
   "cell_type": "markdown",
   "id": "statistical-wonder",
   "metadata": {},
   "source": [
    "#### Make prediction on our test set and measure performance"
   ]
  },
  {
   "cell_type": "code",
   "execution_count": 12,
   "id": "contemporary-physics",
   "metadata": {},
   "outputs": [
    {
     "data": {
      "text/plain": [
       "key                   object\n",
       "fare_amount          float64\n",
       "pickup_datetime       object\n",
       "pickup_longitude     float64\n",
       "pickup_latitude      float64\n",
       "dropoff_longitude    float64\n",
       "dropoff_latitude     float64\n",
       "passenger_count        int64\n",
       "dtype: object"
      ]
     },
     "execution_count": 12,
     "metadata": {},
     "output_type": "execute_result"
    }
   ],
   "source": [
    "test_df =  pd.read_csv('gs://obd-dask/test.csv')\n",
    "test_df.dtypes"
   ]
  },
  {
   "cell_type": "code",
   "execution_count": 13,
   "id": "innovative-colony",
   "metadata": {},
   "outputs": [],
   "source": [
    "add_travel_vector_features(test_df)\n",
    "test_X = get_input_matrix(test_df)"
   ]
  },
  {
   "cell_type": "code",
   "execution_count": 14,
   "id": "unable-helen",
   "metadata": {},
   "outputs": [],
   "source": [
    "test_y_predictions = np.matmul(test_X, w).round(decimals = 2)"
   ]
  },
  {
   "cell_type": "code",
   "execution_count": 15,
   "id": "polar-engineer",
   "metadata": {},
   "outputs": [],
   "source": [
    "test_y_ref = test_df.fare_amount"
   ]
  },
  {
   "cell_type": "code",
   "execution_count": 16,
   "id": "violent-receiver",
   "metadata": {},
   "outputs": [
    {
     "data": {
      "text/plain": [
       "5.412346617224928"
      ]
     },
     "execution_count": 16,
     "metadata": {},
     "output_type": "execute_result"
    }
   ],
   "source": [
    "from sklearn.metrics import mean_squared_error\n",
    "mean_squared_error(test_y_ref, test_y_predictions, squared=False)"
   ]
  },
  {
   "cell_type": "markdown",
   "id": "chronic-defendant",
   "metadata": {},
   "source": [
    "OK, so about 5,23$ of RMSE, this is not that bad... But we can do better."
   ]
  },
  {
   "cell_type": "markdown",
   "id": "english-amateur",
   "metadata": {},
   "source": [
    "<span style=\"color:#EB5E0B;font-style:italic\">\n",
    "\n",
    "### Some questions on this first Analysis\n",
    "\n",
    "- What is the most expensive part of the analysis, the one that takes the most time (see the %%time we used above)?\n",
    "</span>"
   ]
  },
  {
   "cell_type": "code",
   "execution_count": null,
   "id": "graphic-bottom",
   "metadata": {},
   "outputs": [],
   "source": [
    "## The most expensive part of the analysis was the data loading in the first cell"
   ]
  },
  {
   "cell_type": "markdown",
   "id": "earlier-recipe",
   "metadata": {},
   "source": [
    "<span style=\"color:#EB5E0B;font-style:italic\">\n",
    "    \n",
    "- Try to load the whole dataset with Pandas and comment.\n",
    "</span>"
   ]
  },
  {
   "cell_type": "code",
   "execution_count": null,
   "id": "fleet-opening",
   "metadata": {},
   "outputs": [],
   "source": [
    "%%time\n",
    "# train_df_full =  pd.read_csv('gs://obd-dask/train.csv')\n",
    "## My kernel died... How original"
   ]
  },
  {
   "cell_type": "markdown",
   "id": "fluid-milan",
   "metadata": {},
   "source": [
    "# Processing our data set using dask\n",
    "\n",
    "Dask will help us processing all the input data set. It is really useful when input data is too big to fit in memory. In this case, it can stream the computation by data blocs one one computer, or distribute the computation on several computers.\n",
    "\n",
    "This is what we'll do next!"
   ]
  },
  {
   "cell_type": "markdown",
   "id": "brief-bicycle",
   "metadata": {},
   "source": [
    "### Start an appropriate sized Dask cluster for our analysis\n",
    "\n",
    "We'll need a Dask cluster to pre process the data and distribute some learning, the following code starts one in our K8S infrastructure."
   ]
  },
  {
   "cell_type": "code",
   "execution_count": 17,
   "id": "blind-tracy",
   "metadata": {},
   "outputs": [],
   "source": [
    "from dask_gateway import Gateway\n",
    "# Use values stored in your local configuration (recommended)\n",
    "gateway = Gateway()"
   ]
  },
  {
   "cell_type": "code",
   "execution_count": 73,
   "id": "british-letters",
   "metadata": {},
   "outputs": [
    {
     "data": {
      "text/plain": [
       "[]"
      ]
     },
     "execution_count": 73,
     "metadata": {},
     "output_type": "execute_result"
    }
   ],
   "source": [
    "gateway.list_clusters()\n",
    "#cluster = gateway.connect('daskhub.5c7ed511372b4367a324a9eab59794a5')"
   ]
  },
  {
   "cell_type": "code",
   "execution_count": 74,
   "id": "attractive-delaware",
   "metadata": {},
   "outputs": [
    {
     "data": {
      "application/vnd.jupyter.widget-view+json": {
       "model_id": "9e48d6528bba4537a84dabc52a242226",
       "version_major": 2,
       "version_minor": 0
      },
      "text/plain": [
       "VBox(children=(HTML(value='<h2>GatewayCluster</h2>'), HBox(children=(HTML(value='\\n<div>\\n<style scoped>\\n    …"
      ]
     },
     "metadata": {},
     "output_type": "display_data"
    }
   ],
   "source": [
    "cluster = gateway.new_cluster(worker_cores=1, worker_memory=3.4)\n",
    "cluster"
   ]
  },
  {
   "cell_type": "code",
   "execution_count": 72,
   "id": "computational-virgin",
   "metadata": {},
   "outputs": [],
   "source": [
    "#cluster.shutdown()"
   ]
  },
  {
   "cell_type": "markdown",
   "id": "returning-foster",
   "metadata": {},
   "source": [
    "__Please click on the Dashboard link above, it will help you a lot!__"
   ]
  },
  {
   "cell_type": "code",
   "execution_count": 75,
   "id": "rotary-solomon",
   "metadata": {},
   "outputs": [],
   "source": [
    "client = cluster.get_client()\n",
    "cluster.scale(16)"
   ]
  },
  {
   "cell_type": "markdown",
   "id": "august-preserve",
   "metadata": {},
   "source": [
    "### Launch some computation, what about Pi ?\n",
    "\n",
    "Just to check our cluster is working!\n",
    "\n",
    "We'll use Dask array, a Numpy extension for this, taht we'll use later on for the Machine Learning part of this evaluation."
   ]
  },
  {
   "cell_type": "code",
   "execution_count": 78,
   "id": "substantial-atlanta",
   "metadata": {},
   "outputs": [
    {
     "name": "stdout",
     "output_type": "stream",
     "text": [
      "pi ~= 3.1415849104\n",
      "CPU times: user 630 ms, sys: 9.49 ms, total: 639 ms\n",
      "Wall time: 42 s\n"
     ]
    }
   ],
   "source": [
    "%%time\n",
    "import dask.array as da\n",
    "\n",
    "sample = 10_000_000_000  # <- this is huge!\n",
    "xxyy = da.random.uniform(-1, 1, size=(2, sample))\n",
    "norm = da.linalg.norm(xxyy, axis=0)\n",
    "summ = da.sum(norm <= 1)\n",
    "insiders = summ.compute()\n",
    "pi = 4 * insiders / sample\n",
    "print(\"pi ~= {}\".format(pi))"
   ]
  },
  {
   "cell_type": "markdown",
   "id": "aerial-restaurant",
   "metadata": {},
   "source": [
    "## Now, access the data of our BE using Dask\n",
    "\n",
    "We'll use Dask Dataframe, an distributed version of Pandas Dataframe.\n",
    "\n",
    "See https://docs.dask.org/en/latest/dataframe.html.\n",
    "\n",
    "<span style=\"color:#EB5E0B;font-style:italic\">\n",
    "\n",
    "So instead of using Pandas to load the dataset, just use the equivalent dask method from dask.dataframe.\n",
    "\n",
    "- Fill the following cell with the appropriate code to read the data using Dask.\n",
    "</span>"
   ]
  },
  {
   "cell_type": "code",
   "execution_count": 79,
   "id": "laden-colombia",
   "metadata": {},
   "outputs": [],
   "source": [
    "import dask.dataframe as dd"
   ]
  },
  {
   "cell_type": "code",
   "execution_count": 80,
   "id": "hindu-alloy",
   "metadata": {},
   "outputs": [
    {
     "name": "stdout",
     "output_type": "stream",
     "text": [
      "CPU times: user 46.8 ms, sys: 6.23 ms, total: 53 ms\n",
      "Wall time: 292 ms\n"
     ]
    },
    {
     "data": {
      "text/html": [
       "<div><strong>Dask DataFrame Structure:</strong></div>\n",
       "<div>\n",
       "<style scoped>\n",
       "    .dataframe tbody tr th:only-of-type {\n",
       "        vertical-align: middle;\n",
       "    }\n",
       "\n",
       "    .dataframe tbody tr th {\n",
       "        vertical-align: top;\n",
       "    }\n",
       "\n",
       "    .dataframe thead th {\n",
       "        text-align: right;\n",
       "    }\n",
       "</style>\n",
       "<table border=\"1\" class=\"dataframe\">\n",
       "  <thead>\n",
       "    <tr style=\"text-align: right;\">\n",
       "      <th></th>\n",
       "      <th>key</th>\n",
       "      <th>fare_amount</th>\n",
       "      <th>pickup_datetime</th>\n",
       "      <th>pickup_longitude</th>\n",
       "      <th>pickup_latitude</th>\n",
       "      <th>dropoff_longitude</th>\n",
       "      <th>dropoff_latitude</th>\n",
       "      <th>passenger_count</th>\n",
       "    </tr>\n",
       "    <tr>\n",
       "      <th>npartitions=85</th>\n",
       "      <th></th>\n",
       "      <th></th>\n",
       "      <th></th>\n",
       "      <th></th>\n",
       "      <th></th>\n",
       "      <th></th>\n",
       "      <th></th>\n",
       "      <th></th>\n",
       "    </tr>\n",
       "  </thead>\n",
       "  <tbody>\n",
       "    <tr>\n",
       "      <th></th>\n",
       "      <td>object</td>\n",
       "      <td>float64</td>\n",
       "      <td>object</td>\n",
       "      <td>float64</td>\n",
       "      <td>float64</td>\n",
       "      <td>float64</td>\n",
       "      <td>float64</td>\n",
       "      <td>int64</td>\n",
       "    </tr>\n",
       "    <tr>\n",
       "      <th></th>\n",
       "      <td>...</td>\n",
       "      <td>...</td>\n",
       "      <td>...</td>\n",
       "      <td>...</td>\n",
       "      <td>...</td>\n",
       "      <td>...</td>\n",
       "      <td>...</td>\n",
       "      <td>...</td>\n",
       "    </tr>\n",
       "    <tr>\n",
       "      <th>...</th>\n",
       "      <td>...</td>\n",
       "      <td>...</td>\n",
       "      <td>...</td>\n",
       "      <td>...</td>\n",
       "      <td>...</td>\n",
       "      <td>...</td>\n",
       "      <td>...</td>\n",
       "      <td>...</td>\n",
       "    </tr>\n",
       "    <tr>\n",
       "      <th></th>\n",
       "      <td>...</td>\n",
       "      <td>...</td>\n",
       "      <td>...</td>\n",
       "      <td>...</td>\n",
       "      <td>...</td>\n",
       "      <td>...</td>\n",
       "      <td>...</td>\n",
       "      <td>...</td>\n",
       "    </tr>\n",
       "    <tr>\n",
       "      <th></th>\n",
       "      <td>...</td>\n",
       "      <td>...</td>\n",
       "      <td>...</td>\n",
       "      <td>...</td>\n",
       "      <td>...</td>\n",
       "      <td>...</td>\n",
       "      <td>...</td>\n",
       "      <td>...</td>\n",
       "    </tr>\n",
       "  </tbody>\n",
       "</table>\n",
       "</div>\n",
       "<div>Dask Name: read-csv, 85 tasks</div>"
      ],
      "text/plain": [
       "Dask DataFrame Structure:\n",
       "                   key fare_amount pickup_datetime pickup_longitude pickup_latitude dropoff_longitude dropoff_latitude passenger_count\n",
       "npartitions=85                                                                                                                        \n",
       "                object     float64          object          float64         float64           float64          float64           int64\n",
       "                   ...         ...             ...              ...             ...               ...              ...             ...\n",
       "...                ...         ...             ...              ...             ...               ...              ...             ...\n",
       "                   ...         ...             ...              ...             ...               ...              ...             ...\n",
       "                   ...         ...             ...              ...             ...               ...              ...             ...\n",
       "Dask Name: read-csv, 85 tasks"
      ]
     },
     "execution_count": 80,
     "metadata": {},
     "output_type": "execute_result"
    }
   ],
   "source": [
    "%%time\n",
    "df = dd.read_csv('gs://obd-dask/train.csv')\n",
    "df"
   ]
  },
  {
   "cell_type": "markdown",
   "id": "previous-wisconsin",
   "metadata": {},
   "source": [
    "<span style=\"color:#EB5E0B;font-style:italic\">\n",
    "\n",
    "### Some questions about this data loading\n",
    "\n",
    "- That was fast for several gigabytes, wasn't it? Why is this, what did we do?\n",
    "- Why the return dataframe looks empty?\n",
    "- See the number of partitions described above? What does it correspond to?\n",
    "</span>"
   ]
  },
  {
   "cell_type": "code",
   "execution_count": null,
   "id": "psychological-frontier",
   "metadata": {},
   "outputs": [],
   "source": [
    "## Dask only reads the first line of the dataset to get the name of the columns and the types \n",
    "## The dataframe looks empty because it was not been read yet\n",
    "## 85 partitions for the whole dataset. It corresponds to the number of sub-dataframes to load in order parallelize the read"
   ]
  },
  {
   "cell_type": "markdown",
   "id": "played-february",
   "metadata": {},
   "source": [
    "## Little warm up: Analyzing our data to better understand it"
   ]
  },
  {
   "cell_type": "markdown",
   "id": "accredited-charge",
   "metadata": {},
   "source": [
    "<span style=\"color:#EB5E0B;font-style:italic\">\n",
    "\n",
    "- First, how many records do we have? (hint, in python, len() works for almost any object).\n",
    "</span>"
   ]
  },
  {
   "cell_type": "code",
   "execution_count": 21,
   "id": "lined-ghost",
   "metadata": {},
   "outputs": [
    {
     "name": "stdout",
     "output_type": "stream",
     "text": [
      "CPU times: user 48.7 ms, sys: 4.6 ms, total: 53.3 ms\n",
      "Wall time: 16.4 s\n"
     ]
    },
    {
     "data": {
      "text/plain": [
       "54869617"
      ]
     },
     "execution_count": 21,
     "metadata": {},
     "output_type": "execute_result"
    }
   ],
   "source": [
    "%%time\n",
    "len(df)"
   ]
  },
  {
   "cell_type": "markdown",
   "id": "bacterial-insulin",
   "metadata": {},
   "source": [
    "<span style=\"color:#EB5E0B;font-style:italic\">\n",
    "    \n",
    "- What did happend when counting record of our Dask dataframe? Remember with the Spark tutorial: transformations and actions... Same kind of concepts exist in Dask. Just look at the Dask Dashboard!\n",
    "</span>"
   ]
  },
  {
   "cell_type": "code",
   "execution_count": null,
   "id": "dress-import",
   "metadata": {},
   "outputs": [],
   "source": [
    "## For each chunk, dask reads the dataset, then gets the length of it, and sums the length to previously calculated ones"
   ]
  },
  {
   "cell_type": "markdown",
   "id": "touched-tucson",
   "metadata": {},
   "source": [
    "<span style=\"color:#EB5E0B;font-style:italic\">\n",
    "    \n",
    "- Compare the time of this computation to the time of loading a subset of the Dataset with Pandas. What is fast enough considering the number of worker we have?\n",
    "</span>"
   ]
  },
  {
   "cell_type": "code",
   "execution_count": 23,
   "id": "widespread-dubai",
   "metadata": {},
   "outputs": [
    {
     "name": "stdout",
     "output_type": "stream",
     "text": [
      "CPU times: user 2.18 s, sys: 192 ms, total: 2.37 s\n",
      "Wall time: 2.9 s\n"
     ]
    }
   ],
   "source": [
    "%%time\n",
    "## Answer needed there.\n",
    "n_rows = 54869617//85\n",
    "\n",
    "train_df =  pd.read_csv('gs://obd-dask/train.csv', nrows = n_rows)"
   ]
  },
  {
   "cell_type": "code",
   "execution_count": null,
   "id": "third-smooth",
   "metadata": {},
   "outputs": [],
   "source": []
  },
  {
   "cell_type": "markdown",
   "id": "reflected-tomato",
   "metadata": {},
   "source": [
    "Let's have a look at some data:"
   ]
  },
  {
   "cell_type": "code",
   "execution_count": 24,
   "id": "creative-mobility",
   "metadata": {},
   "outputs": [
    {
     "name": "stdout",
     "output_type": "stream",
     "text": [
      "CPU times: user 336 µs, sys: 0 ns, total: 336 µs\n",
      "Wall time: 345 µs\n"
     ]
    },
    {
     "data": {
      "text/html": [
       "<div>\n",
       "<style scoped>\n",
       "    .dataframe tbody tr th:only-of-type {\n",
       "        vertical-align: middle;\n",
       "    }\n",
       "\n",
       "    .dataframe tbody tr th {\n",
       "        vertical-align: top;\n",
       "    }\n",
       "\n",
       "    .dataframe thead th {\n",
       "        text-align: right;\n",
       "    }\n",
       "</style>\n",
       "<table border=\"1\" class=\"dataframe\">\n",
       "  <thead>\n",
       "    <tr style=\"text-align: right;\">\n",
       "      <th></th>\n",
       "      <th>key</th>\n",
       "      <th>fare_amount</th>\n",
       "      <th>pickup_datetime</th>\n",
       "      <th>pickup_longitude</th>\n",
       "      <th>pickup_latitude</th>\n",
       "      <th>dropoff_longitude</th>\n",
       "      <th>dropoff_latitude</th>\n",
       "      <th>passenger_count</th>\n",
       "    </tr>\n",
       "  </thead>\n",
       "  <tbody>\n",
       "    <tr>\n",
       "      <th>0</th>\n",
       "      <td>2012-11-09 14:21:00.00000064</td>\n",
       "      <td>9.5</td>\n",
       "      <td>2012-11-09 14:21:00 UTC</td>\n",
       "      <td>-73.973045</td>\n",
       "      <td>40.744030</td>\n",
       "      <td>-73.972740</td>\n",
       "      <td>40.756930</td>\n",
       "      <td>5</td>\n",
       "    </tr>\n",
       "    <tr>\n",
       "      <th>1</th>\n",
       "      <td>2013-04-14 19:44:09.0000003</td>\n",
       "      <td>7.5</td>\n",
       "      <td>2013-04-14 19:44:09 UTC</td>\n",
       "      <td>-73.977394</td>\n",
       "      <td>40.689830</td>\n",
       "      <td>-73.978610</td>\n",
       "      <td>40.675716</td>\n",
       "      <td>1</td>\n",
       "    </tr>\n",
       "    <tr>\n",
       "      <th>2</th>\n",
       "      <td>2013-10-12 00:15:00.0000002</td>\n",
       "      <td>7.5</td>\n",
       "      <td>2013-10-12 00:15:00 UTC</td>\n",
       "      <td>-73.994720</td>\n",
       "      <td>40.684770</td>\n",
       "      <td>-73.991110</td>\n",
       "      <td>40.669810</td>\n",
       "      <td>5</td>\n",
       "    </tr>\n",
       "    <tr>\n",
       "      <th>3</th>\n",
       "      <td>2012-04-24 18:17:57.0000002</td>\n",
       "      <td>49.8</td>\n",
       "      <td>2012-04-24 18:17:57 UTC</td>\n",
       "      <td>-73.783700</td>\n",
       "      <td>40.646465</td>\n",
       "      <td>-73.976770</td>\n",
       "      <td>40.762363</td>\n",
       "      <td>2</td>\n",
       "    </tr>\n",
       "    <tr>\n",
       "      <th>4</th>\n",
       "      <td>2011-09-21 00:59:00.0000003</td>\n",
       "      <td>13.7</td>\n",
       "      <td>2011-09-21 00:59:00 UTC</td>\n",
       "      <td>-73.969000</td>\n",
       "      <td>40.761234</td>\n",
       "      <td>-74.008705</td>\n",
       "      <td>40.705463</td>\n",
       "      <td>1</td>\n",
       "    </tr>\n",
       "  </tbody>\n",
       "</table>\n",
       "</div>"
      ],
      "text/plain": [
       "                            key  fare_amount          pickup_datetime  \\\n",
       "0  2012-11-09 14:21:00.00000064          9.5  2012-11-09 14:21:00 UTC   \n",
       "1   2013-04-14 19:44:09.0000003          7.5  2013-04-14 19:44:09 UTC   \n",
       "2   2013-10-12 00:15:00.0000002          7.5  2013-10-12 00:15:00 UTC   \n",
       "3   2012-04-24 18:17:57.0000002         49.8  2012-04-24 18:17:57 UTC   \n",
       "4   2011-09-21 00:59:00.0000003         13.7  2011-09-21 00:59:00 UTC   \n",
       "\n",
       "   pickup_longitude  pickup_latitude  dropoff_longitude  dropoff_latitude  \\\n",
       "0        -73.973045        40.744030         -73.972740         40.756930   \n",
       "1        -73.977394        40.689830         -73.978610         40.675716   \n",
       "2        -73.994720        40.684770         -73.991110         40.669810   \n",
       "3        -73.783700        40.646465         -73.976770         40.762363   \n",
       "4        -73.969000        40.761234         -74.008705         40.705463   \n",
       "\n",
       "   passenger_count  \n",
       "0                5  \n",
       "1                1  \n",
       "2                5  \n",
       "3                2  \n",
       "4                1  "
      ]
     },
     "execution_count": 24,
     "metadata": {},
     "output_type": "execute_result"
    }
   ],
   "source": [
    "%%time\n",
    "train_df.head()"
   ]
  },
  {
   "cell_type": "markdown",
   "id": "beginning-burns",
   "metadata": {},
   "source": [
    "<span style=\"color:#EB5E0B;font-style:italic\">\n",
    "    \n",
    "- Why was it faster than the count records operation above? What did wee read?\n",
    "</span>"
   ]
  },
  {
   "cell_type": "code",
   "execution_count": null,
   "id": "improving-characteristic",
   "metadata": {},
   "outputs": [],
   "source": [
    "## We only opened the 5 first lines, instead of reading everything"
   ]
  },
  {
   "cell_type": "markdown",
   "id": "blessed-mounting",
   "metadata": {},
   "source": [
    "df = dd.read_csv('gs://obd-dask/train.csv')<span style=\"color:#EB5E0B;font-style:italic\">\n",
    "    \n",
    "- Let's compute the mean of the fare given the passenger_count, as we've done with Pandas. Please fill the blank. (hint: don't forget the compute() call)\n",
    "</span>"
   ]
  },
  {
   "cell_type": "code",
   "execution_count": 81,
   "id": "persistent-opposition",
   "metadata": {},
   "outputs": [],
   "source": [
    "df = dd.read_csv('gs://obd-dask/train.csv')"
   ]
  },
  {
   "cell_type": "code",
   "execution_count": 23,
   "id": "fiscal-representation",
   "metadata": {},
   "outputs": [
    {
     "name": "stdout",
     "output_type": "stream",
     "text": [
      "CPU times: user 226 ms, sys: 28.2 ms, total: 254 ms\n",
      "Wall time: 3min 12s\n"
     ]
    },
    {
     "data": {
      "text/plain": [
       "passenger_count\n",
       "0       9.014902\n",
       "1      11.216303\n",
       "2      11.838206\n",
       "3      11.538895\n",
       "4      11.766858\n",
       "5      11.207994\n",
       "6      12.126710\n",
       "9      36.993043\n",
       "208     8.975000\n",
       "8      29.981111\n",
       "49      2.500000\n",
       "7      33.559286\n",
       "34     13.300000\n",
       "51      9.300000\n",
       "129     8.900000\n",
       "Name: fare_amount, dtype: float64"
      ]
     },
     "execution_count": 23,
     "metadata": {},
     "output_type": "execute_result"
    }
   ],
   "source": [
    "%%time\n",
    "df.groupby('passenger_count').fare_amount.mean().compute()"
   ]
  },
  {
   "cell_type": "markdown",
   "id": "entire-madness",
   "metadata": {},
   "source": [
    "Wow, ever seen a cab with more than 200 people??\n",
    "\n",
    "<span style=\"color:#EB5E0B;font-style:italic\">\n",
    "\n",
    "- This is a bit slow, much more than with Pandas, why? Which part of the computation is slow, look at the Dashboard to see the name of the tasks. \n",
    "</span>"
   ]
  },
  {
   "cell_type": "code",
   "execution_count": 30,
   "id": "missing-fraud",
   "metadata": {},
   "outputs": [],
   "source": [
    "## Reading the data is the longest"
   ]
  },
  {
   "cell_type": "markdown",
   "id": "effective-villa",
   "metadata": {},
   "source": [
    "<span style=\"color:#EB5E0B;font-style:italic\">\n",
    "    \n",
    "- How cloud we optimize the next computations ? Where will be the data at the end?\n",
    "</span>"
   ]
  },
  {
   "cell_type": "code",
   "execution_count": 82,
   "id": "level-lightning",
   "metadata": {},
   "outputs": [],
   "source": [
    "df = df.persist()"
   ]
  },
  {
   "cell_type": "markdown",
   "id": "characteristic-memorial",
   "metadata": {},
   "source": [
    "<span style=\"color:#EB5E0B;font-style:italic\">\n",
    "    \n",
    "- Look at the Dashboard at what is happening beind the scene.\n",
    "At the end, try again the computation:\n",
    "</span>"
   ]
  },
  {
   "cell_type": "code",
   "execution_count": 32,
   "id": "intellectual-majority",
   "metadata": {},
   "outputs": [
    {
     "name": "stdout",
     "output_type": "stream",
     "text": [
      "CPU times: user 131 ms, sys: 12.6 ms, total: 143 ms\n",
      "Wall time: 23.8 s\n"
     ]
    },
    {
     "data": {
      "text/plain": [
       "passenger_count\n",
       "0       9.014902\n",
       "1      11.216303\n",
       "2      11.838206\n",
       "3      11.538895\n",
       "4      11.766858\n",
       "5      11.207994\n",
       "6      12.126710\n",
       "9      36.993043\n",
       "208     8.975000\n",
       "8      29.981111\n",
       "49      2.500000\n",
       "7      33.559286\n",
       "34     13.300000\n",
       "51      9.300000\n",
       "129     8.900000\n",
       "Name: fare_amount, dtype: float64"
      ]
     },
     "execution_count": 32,
     "metadata": {},
     "output_type": "execute_result"
    }
   ],
   "source": [
    "%%time\n",
    "df.groupby('passenger_count').fare_amount.mean().compute()\n",
    "## Answer needed here, the same computation on fare_amount mean"
   ]
  },
  {
   "cell_type": "markdown",
   "id": "enabling-transformation",
   "metadata": {},
   "source": [
    "Much better isn't it?"
   ]
  },
  {
   "cell_type": "markdown",
   "id": "neither-worker",
   "metadata": {},
   "source": [
    "<span style=\"color:#EB5E0B;font-style:italic\">\n",
    "    \n",
    "### Some other questions to practice\n",
    "\n",
    "- Can you see a correlation between the fare amount and the dropoff latitude? Answer by doing a dask dataframe computation.\n",
    "\n",
    "First you'll need to round the dropoff latitude to have some sort of categories using Series.round() function.\n",
    "\n",
    "Then, just group_by this new colon to have some answer (and don't forget to compute to get the results).\n",
    "</span>"
   ]
  },
  {
   "cell_type": "code",
   "execution_count": 25,
   "id": "coordinate-audio",
   "metadata": {},
   "outputs": [
    {
     "data": {
      "text/plain": [
       "dropoff_latitude\n",
       "-2483.0     7.300000\n",
       "-777.0     11.500000\n",
       "-412.0      8.900000\n",
       "-74.0      13.131236\n",
       " 0.0       12.039995\n",
       "             ...    \n",
       " 451.0      8.100000\n",
       " 3273.0    13.300000\n",
       "-440.0      6.500000\n",
       "-110.0     33.700000\n",
       " 68.0      46.540000\n",
       "Name: fare_amount, Length: 640, dtype: float64"
      ]
     },
     "execution_count": 25,
     "metadata": {},
     "output_type": "execute_result"
    }
   ],
   "source": [
    "df.round({'dropoff_latitude' : 0}).groupby('dropoff_latitude').fare_amount.mean().compute()"
   ]
  },
  {
   "cell_type": "markdown",
   "id": "complimentary-printing",
   "metadata": {},
   "source": [
    "OK, this don't give a lot of insights, but it looks like we've got some strange values somewhere!\n",
    "\n",
    "<span style=\"color:#EB5E0B;font-style:italic\">\n",
    "\n",
    "- Let's just have a look of non extreme values, so probably some records at the middle of the results.\n",
    "We need first to sort the resulting series by index befor lookin at the middle of it.\n",
    "</span>"
   ]
  },
  {
   "cell_type": "code",
   "execution_count": 112,
   "id": "whole-apollo",
   "metadata": {},
   "outputs": [],
   "source": [
    "fare_by_lat = df.round({'dropoff_latitude' : 1}).groupby('dropoff_latitude').fare_amount.mean().compute().sort_index()"
   ]
  },
  {
   "cell_type": "markdown",
   "id": "accepting-practice",
   "metadata": {},
   "source": [
    "OK, this is not really useful, but it's an exercise!"
   ]
  },
  {
   "cell_type": "code",
   "execution_count": 113,
   "id": "worth-howard",
   "metadata": {},
   "outputs": [
    {
     "data": {
      "text/plain": [
       "dropoff_latitude\n",
       "39.2    14.064571\n",
       "39.3    15.030455\n",
       "39.4    63.154082\n",
       "39.5    10.821277\n",
       "39.6    10.272633\n",
       "39.7    22.543120\n",
       "39.8    12.179727\n",
       "39.9    20.368967\n",
       "40.0    24.403733\n",
       "40.1    16.354549\n",
       "40.2    12.421723\n",
       "40.3    39.679845\n",
       "40.4    28.977930\n",
       "40.5    38.143884\n",
       "40.6    40.399572\n",
       "40.7    11.243226\n",
       "40.8    10.554744\n",
       "40.9    29.134475\n",
       "41.0    73.928339\n",
       "41.1    84.788824\n",
       "41.2    54.350626\n",
       "41.3    60.373950\n",
       "41.4    11.583449\n",
       "41.5    20.213005\n",
       "41.6    17.991513\n",
       "41.7    16.985000\n",
       "41.8    12.268571\n",
       "41.9    27.402778\n",
       "42.0    16.286800\n",
       "42.1    10.313043\n",
       "Name: fare_amount, dtype: float64"
      ]
     },
     "execution_count": 113,
     "metadata": {},
     "output_type": "execute_result"
    }
   ],
   "source": [
    "fare_by_lat.iloc[550:580]"
   ]
  },
  {
   "cell_type": "markdown",
   "id": "ignored-eclipse",
   "metadata": {},
   "source": [
    "<span style=\"color:#EB5E0B;font-style:italic\">\n",
    "    \n",
    "- Do you think we could parallelize things better for any of our computation or data access?\n",
    "</span>"
   ]
  },
  {
   "cell_type": "code",
   "execution_count": null,
   "id": "numeric-drilling",
   "metadata": {},
   "outputs": [],
   "source": [
    "## Maybe, maybe not"
   ]
  },
  {
   "cell_type": "markdown",
   "id": "acute-palestinian",
   "metadata": {},
   "source": [
    "## Let's do some preprocessing of our data to clean it up and add some features\n",
    "\n",
    "<span style=\"color:#EB5E0B;font-style:italic\">\n",
    "\n",
    "- You'll need to do the same operations as in pandas, we just need to call compute when needing a result, and not compute when building our dataframe transformations.\n",
    "</span>"
   ]
  },
  {
   "cell_type": "markdown",
   "id": "annoying-shelf",
   "metadata": {},
   "source": [
    "<span style=\"color:#EB5E0B;font-style:italic\">\n",
    "\n",
    "#### Cleaning up\n",
    "\n",
    "- Is there some null values in our data?\n",
    "</span>"
   ]
  },
  {
   "cell_type": "code",
   "execution_count": 114,
   "id": "present-builder",
   "metadata": {},
   "outputs": [
    {
     "name": "stdout",
     "output_type": "stream",
     "text": [
      "Dask Series Structure:\n",
      "npartitions=1\n",
      "dropoff_latitude    int64\n",
      "pickup_longitude      ...\n",
      "dtype: int64\n",
      "Dask Name: dataframe-sum-agg, 256 tasks\n"
     ]
    }
   ],
   "source": [
    "print(df.isnull().sum())"
   ]
  },
  {
   "cell_type": "markdown",
   "id": "honey-comparison",
   "metadata": {},
   "source": [
    "<span style=\"color:#EB5E0B;font-style:italic\">\n",
    "    \n",
    "- Yep! We must get rid of them...\n",
    "</span>"
   ]
  },
  {
   "cell_type": "code",
   "execution_count": 83,
   "id": "fitted-eugene",
   "metadata": {},
   "outputs": [
    {
     "name": "stdout",
     "output_type": "stream",
     "text": [
      "Old size: 54869617\n",
      "New size: 54869245\n",
      "CPU times: user 84.6 ms, sys: 13 ms, total: 97.6 ms\n",
      "Wall time: 7.23 s\n"
     ]
    }
   ],
   "source": [
    "%%time\n",
    "print('Old size: %d' % len(df))\n",
    "df = df.dropna()\n",
    "print('New size: %d' % len(df))"
   ]
  },
  {
   "cell_type": "markdown",
   "id": "normal-spring",
   "metadata": {},
   "source": [
    "#### Adding features\n",
    "\n",
    "<span style=\"color:#EB5E0B;font-style:italic\">\n",
    "\n",
    "- As with Pandas above, add the lattitude and longitude distance vector with a function call\n",
    "</span>"
   ]
  },
  {
   "cell_type": "code",
   "execution_count": 84,
   "id": "fifth-annual",
   "metadata": {},
   "outputs": [
    {
     "name": "stdout",
     "output_type": "stream",
     "text": [
      "CPU times: user 12 ms, sys: 5.04 ms, total: 17 ms\n",
      "Wall time: 15.1 ms\n"
     ]
    }
   ],
   "source": [
    "%%time\n",
    "\n",
    "add_travel_vector_features(df)"
   ]
  },
  {
   "cell_type": "markdown",
   "id": "bridal-thread",
   "metadata": {},
   "source": [
    "A quick look at our Dataframe to check things"
   ]
  },
  {
   "cell_type": "code",
   "execution_count": 28,
   "id": "premier-polymer",
   "metadata": {},
   "outputs": [
    {
     "data": {
      "text/html": [
       "<div>\n",
       "<style scoped>\n",
       "    .dataframe tbody tr th:only-of-type {\n",
       "        vertical-align: middle;\n",
       "    }\n",
       "\n",
       "    .dataframe tbody tr th {\n",
       "        vertical-align: top;\n",
       "    }\n",
       "\n",
       "    .dataframe thead th {\n",
       "        text-align: right;\n",
       "    }\n",
       "</style>\n",
       "<table border=\"1\" class=\"dataframe\">\n",
       "  <thead>\n",
       "    <tr style=\"text-align: right;\">\n",
       "      <th></th>\n",
       "      <th>key</th>\n",
       "      <th>fare_amount</th>\n",
       "      <th>pickup_datetime</th>\n",
       "      <th>pickup_longitude</th>\n",
       "      <th>pickup_latitude</th>\n",
       "      <th>dropoff_longitude</th>\n",
       "      <th>dropoff_latitude</th>\n",
       "      <th>passenger_count</th>\n",
       "      <th>abs_diff_longitude</th>\n",
       "      <th>abs_diff_latitude</th>\n",
       "    </tr>\n",
       "  </thead>\n",
       "  <tbody>\n",
       "    <tr>\n",
       "      <th>0</th>\n",
       "      <td>2012-11-09 14:21:00.00000064</td>\n",
       "      <td>9.5</td>\n",
       "      <td>2012-11-09 14:21:00 UTC</td>\n",
       "      <td>-73.973045</td>\n",
       "      <td>40.744030</td>\n",
       "      <td>-73.972740</td>\n",
       "      <td>40.756930</td>\n",
       "      <td>5</td>\n",
       "      <td>0.000305</td>\n",
       "      <td>0.012900</td>\n",
       "    </tr>\n",
       "    <tr>\n",
       "      <th>1</th>\n",
       "      <td>2013-04-14 19:44:09.0000003</td>\n",
       "      <td>7.5</td>\n",
       "      <td>2013-04-14 19:44:09 UTC</td>\n",
       "      <td>-73.977394</td>\n",
       "      <td>40.689830</td>\n",
       "      <td>-73.978610</td>\n",
       "      <td>40.675716</td>\n",
       "      <td>1</td>\n",
       "      <td>0.001216</td>\n",
       "      <td>0.014114</td>\n",
       "    </tr>\n",
       "    <tr>\n",
       "      <th>2</th>\n",
       "      <td>2013-10-12 00:15:00.0000002</td>\n",
       "      <td>7.5</td>\n",
       "      <td>2013-10-12 00:15:00 UTC</td>\n",
       "      <td>-73.994720</td>\n",
       "      <td>40.684770</td>\n",
       "      <td>-73.991110</td>\n",
       "      <td>40.669810</td>\n",
       "      <td>5</td>\n",
       "      <td>0.003610</td>\n",
       "      <td>0.014960</td>\n",
       "    </tr>\n",
       "    <tr>\n",
       "      <th>3</th>\n",
       "      <td>2012-04-24 18:17:57.0000002</td>\n",
       "      <td>49.8</td>\n",
       "      <td>2012-04-24 18:17:57 UTC</td>\n",
       "      <td>-73.783700</td>\n",
       "      <td>40.646465</td>\n",
       "      <td>-73.976770</td>\n",
       "      <td>40.762363</td>\n",
       "      <td>2</td>\n",
       "      <td>0.193070</td>\n",
       "      <td>0.115898</td>\n",
       "    </tr>\n",
       "    <tr>\n",
       "      <th>4</th>\n",
       "      <td>2011-09-21 00:59:00.0000003</td>\n",
       "      <td>13.7</td>\n",
       "      <td>2011-09-21 00:59:00 UTC</td>\n",
       "      <td>-73.969000</td>\n",
       "      <td>40.761234</td>\n",
       "      <td>-74.008705</td>\n",
       "      <td>40.705463</td>\n",
       "      <td>1</td>\n",
       "      <td>0.039705</td>\n",
       "      <td>0.055771</td>\n",
       "    </tr>\n",
       "  </tbody>\n",
       "</table>\n",
       "</div>"
      ],
      "text/plain": [
       "                            key  fare_amount          pickup_datetime  \\\n",
       "0  2012-11-09 14:21:00.00000064          9.5  2012-11-09 14:21:00 UTC   \n",
       "1   2013-04-14 19:44:09.0000003          7.5  2013-04-14 19:44:09 UTC   \n",
       "2   2013-10-12 00:15:00.0000002          7.5  2013-10-12 00:15:00 UTC   \n",
       "3   2012-04-24 18:17:57.0000002         49.8  2012-04-24 18:17:57 UTC   \n",
       "4   2011-09-21 00:59:00.0000003         13.7  2011-09-21 00:59:00 UTC   \n",
       "\n",
       "   pickup_longitude  pickup_latitude  dropoff_longitude  dropoff_latitude  \\\n",
       "0        -73.973045        40.744030         -73.972740         40.756930   \n",
       "1        -73.977394        40.689830         -73.978610         40.675716   \n",
       "2        -73.994720        40.684770         -73.991110         40.669810   \n",
       "3        -73.783700        40.646465         -73.976770         40.762363   \n",
       "4        -73.969000        40.761234         -74.008705         40.705463   \n",
       "\n",
       "   passenger_count  abs_diff_longitude  abs_diff_latitude  \n",
       "0                5            0.000305           0.012900  \n",
       "1                1            0.001216           0.014114  \n",
       "2                5            0.003610           0.014960  \n",
       "3                2            0.193070           0.115898  \n",
       "4                1            0.039705           0.055771  "
      ]
     },
     "execution_count": 28,
     "metadata": {},
     "output_type": "execute_result"
    }
   ],
   "source": [
    "df.head()"
   ]
  },
  {
   "cell_type": "markdown",
   "id": "express-assignment",
   "metadata": {},
   "source": [
    "<span style=\"color:#EB5E0B;font-style:italic\">\n",
    "    \n",
    "- Now let's quickly plot a subset of our travel vector features to see its distribution. Use dask.dataframe.sample() to get about five percent of the rows, and get it back with compute and plot like with Pandas\n",
    "</span>"
   ]
  },
  {
   "cell_type": "code",
   "execution_count": 33,
   "id": "stone-central",
   "metadata": {},
   "outputs": [
    {
     "data": {
      "text/plain": [
       "<AxesSubplot:xlabel='abs_diff_longitude', ylabel='abs_diff_latitude'>"
      ]
     },
     "execution_count": 33,
     "metadata": {},
     "output_type": "execute_result"
    },
    {
     "data": {
      "image/png": "[encoded data removed]",
      "text/plain": [
       "<Figure size 432x288 with 1 Axes>"
      ]
     },
     "metadata": {
      "needs_background": "light"
     },
     "output_type": "display_data"
    }
   ],
   "source": [
    "df.sample(frac=0.05).compute().plot.scatter('abs_diff_longitude', 'abs_diff_latitude')"
   ]
  },
  {
   "cell_type": "markdown",
   "id": "related-messaging",
   "metadata": {},
   "source": [
    "Wow, looks like we have some strange values here: more than 1000° of distance... There's a problem somewhere.\n",
    "\n",
    "<span style=\"color:#EB5E0B;font-style:italic\">\n",
    "    \n",
    "- Just get rid of the extreme values, we should keep inside the city wall or so. Like with Pandas.\n",
    "</span>"
   ]
  },
  {
   "cell_type": "code",
   "execution_count": 85,
   "id": "unavailable-cholesterol",
   "metadata": {},
   "outputs": [
    {
     "name": "stdout",
     "output_type": "stream",
     "text": [
      "Old size: 54869245\n",
      "New size: 54755818\n",
      "CPU times: user 82.1 ms, sys: 5.27 ms, total: 87.4 ms\n",
      "Wall time: 3.23 s\n"
     ]
    }
   ],
   "source": [
    "%%time\n",
    "print('Old size: %d' % len(df))\n",
    "df = df[(df.abs_diff_longitude < 5.0) & (df.abs_diff_latitude < 5.0)]\n",
    "print('New size: %d' % len(df))"
   ]
  },
  {
   "cell_type": "code",
   "execution_count": 86,
   "id": "cellular-advancement",
   "metadata": {},
   "outputs": [
    {
     "data": {
      "text/plain": [
       "<AxesSubplot:xlabel='abs_diff_longitude', ylabel='abs_diff_latitude'>"
      ]
     },
     "execution_count": 86,
     "metadata": {},
     "output_type": "execute_result"
    },
    {
     "data": {
      "image/png": "[encoded data removed]",
      "text/plain": [
       "<Figure size 432x288 with 1 Axes>"
      ]
     },
     "metadata": {
      "needs_background": "light"
     },
     "output_type": "display_data"
    }
   ],
   "source": [
    "df.sample(frac=0.05).compute().plot.scatter('abs_diff_longitude', 'abs_diff_latitude')"
   ]
  },
  {
   "cell_type": "markdown",
   "id": "psychological-humanity",
   "metadata": {},
   "source": [
    "<span style=\"color:#EB5E0B;font-style:italic\">\n",
    "    \n",
    "- What is triggering the computation in the examples above?\n",
    "</span>"
   ]
  },
  {
   "cell_type": "code",
   "execution_count": 102,
   "id": "unauthorized-disposition",
   "metadata": {},
   "outputs": [],
   "source": [
    "## the .compute() is triggering the computation in the examples"
   ]
  },
  {
   "cell_type": "markdown",
   "id": "cordless-partition",
   "metadata": {},
   "source": [
    "<span style=\"color:#EB5E0B;font-style:italic\">\n",
    "\n",
    "- you can do another plot like above with the filtered values if you like.\n",
    "</span>"
   ]
  },
  {
   "cell_type": "code",
   "execution_count": null,
   "id": "illegal-cheese",
   "metadata": {},
   "outputs": [],
   "source": [
    "## Done already"
   ]
  },
  {
   "cell_type": "markdown",
   "id": "structured-anime",
   "metadata": {},
   "source": [
    "Ok, let's see some statistics on our Dataset. The describe() function inherited from Pandas compute a lot of statistics on a dataframe."
   ]
  },
  {
   "cell_type": "code",
   "execution_count": 36,
   "id": "automotive-repeat",
   "metadata": {},
   "outputs": [
    {
     "name": "stdout",
     "output_type": "stream",
     "text": [
      "CPU times: user 1.25 s, sys: 11.7 ms, total: 1.27 s\n",
      "Wall time: 13.5 s\n"
     ]
    },
    {
     "data": {
      "text/html": [
       "<div>\n",
       "<style scoped>\n",
       "    .dataframe tbody tr th:only-of-type {\n",
       "        vertical-align: middle;\n",
       "    }\n",
       "\n",
       "    .dataframe tbody tr th {\n",
       "        vertical-align: top;\n",
       "    }\n",
       "\n",
       "    .dataframe thead th {\n",
       "        text-align: right;\n",
       "    }\n",
       "</style>\n",
       "<table border=\"1\" class=\"dataframe\">\n",
       "  <thead>\n",
       "    <tr style=\"text-align: right;\">\n",
       "      <th></th>\n",
       "      <th>fare_amount</th>\n",
       "      <th>pickup_longitude</th>\n",
       "      <th>pickup_latitude</th>\n",
       "      <th>dropoff_longitude</th>\n",
       "      <th>dropoff_latitude</th>\n",
       "      <th>passenger_count</th>\n",
       "      <th>abs_diff_longitude</th>\n",
       "      <th>abs_diff_latitude</th>\n",
       "    </tr>\n",
       "  </thead>\n",
       "  <tbody>\n",
       "    <tr>\n",
       "      <th>count</th>\n",
       "      <td>5.475582e+07</td>\n",
       "      <td>5.475582e+07</td>\n",
       "      <td>5.475582e+07</td>\n",
       "      <td>5.475582e+07</td>\n",
       "      <td>5.475582e+07</td>\n",
       "      <td>5.475582e+07</td>\n",
       "      <td>5.475582e+07</td>\n",
       "      <td>5.475582e+07</td>\n",
       "    </tr>\n",
       "    <tr>\n",
       "      <th>mean</th>\n",
       "      <td>1.133664e+01</td>\n",
       "      <td>-7.257282e+01</td>\n",
       "      <td>3.995285e+01</td>\n",
       "      <td>-7.257196e+01</td>\n",
       "      <td>3.995319e+01</td>\n",
       "      <td>1.685426e+00</td>\n",
       "      <td>2.251246e-02</td>\n",
       "      <td>2.110188e-02</td>\n",
       "    </tr>\n",
       "    <tr>\n",
       "      <th>std</th>\n",
       "      <td>2.079454e+01</td>\n",
       "      <td>1.095235e+01</td>\n",
       "      <td>7.041418e+00</td>\n",
       "      <td>1.095224e+01</td>\n",
       "      <td>7.041468e+00</td>\n",
       "      <td>1.326945e+00</td>\n",
       "      <td>3.855548e-02</td>\n",
       "      <td>2.903870e-02</td>\n",
       "    </tr>\n",
       "    <tr>\n",
       "      <th>min</th>\n",
       "      <td>-3.000000e+02</td>\n",
       "      <td>-3.440697e+03</td>\n",
       "      <td>-3.488080e+03</td>\n",
       "      <td>-3.440697e+03</td>\n",
       "      <td>-3.488080e+03</td>\n",
       "      <td>0.000000e+00</td>\n",
       "      <td>0.000000e+00</td>\n",
       "      <td>0.000000e+00</td>\n",
       "    </tr>\n",
       "    <tr>\n",
       "      <th>25%</th>\n",
       "      <td>6.000000e+00</td>\n",
       "      <td>-7.399202e+01</td>\n",
       "      <td>4.073514e+01</td>\n",
       "      <td>-7.399136e+01</td>\n",
       "      <td>4.073423e+01</td>\n",
       "      <td>1.000000e+00</td>\n",
       "      <td>5.960000e-03</td>\n",
       "      <td>6.666500e-03</td>\n",
       "    </tr>\n",
       "    <tr>\n",
       "      <th>50%</th>\n",
       "      <td>8.500000e+00</td>\n",
       "      <td>-7.398175e+01</td>\n",
       "      <td>4.075282e+01</td>\n",
       "      <td>-7.398010e+01</td>\n",
       "      <td>4.075332e+01</td>\n",
       "      <td>1.000000e+00</td>\n",
       "      <td>1.251000e-02</td>\n",
       "      <td>1.402800e-02</td>\n",
       "    </tr>\n",
       "    <tr>\n",
       "      <th>75%</th>\n",
       "      <td>1.250000e+01</td>\n",
       "      <td>-7.396703e+01</td>\n",
       "      <td>4.076723e+01</td>\n",
       "      <td>-7.396362e+01</td>\n",
       "      <td>4.076821e+01</td>\n",
       "      <td>2.000000e+00</td>\n",
       "      <td>2.393700e-02</td>\n",
       "      <td>2.701750e-02</td>\n",
       "    </tr>\n",
       "    <tr>\n",
       "      <th>max</th>\n",
       "      <td>9.396336e+04</td>\n",
       "      <td>3.456223e+03</td>\n",
       "      <td>3.378013e+03</td>\n",
       "      <td>3.456223e+03</td>\n",
       "      <td>3.378013e+03</td>\n",
       "      <td>2.080000e+02</td>\n",
       "      <td>4.989830e+00</td>\n",
       "      <td>4.991320e+00</td>\n",
       "    </tr>\n",
       "  </tbody>\n",
       "</table>\n",
       "</div>"
      ],
      "text/plain": [
       "        fare_amount  pickup_longitude  pickup_latitude  dropoff_longitude  \\\n",
       "count  5.475582e+07      5.475582e+07     5.475582e+07       5.475582e+07   \n",
       "mean   1.133664e+01     -7.257282e+01     3.995285e+01      -7.257196e+01   \n",
       "std    2.079454e+01      1.095235e+01     7.041418e+00       1.095224e+01   \n",
       "min   -3.000000e+02     -3.440697e+03    -3.488080e+03      -3.440697e+03   \n",
       "25%    6.000000e+00     -7.399202e+01     4.073514e+01      -7.399136e+01   \n",
       "50%    8.500000e+00     -7.398175e+01     4.075282e+01      -7.398010e+01   \n",
       "75%    1.250000e+01     -7.396703e+01     4.076723e+01      -7.396362e+01   \n",
       "max    9.396336e+04      3.456223e+03     3.378013e+03       3.456223e+03   \n",
       "\n",
       "       dropoff_latitude  passenger_count  abs_diff_longitude  \\\n",
       "count      5.475582e+07     5.475582e+07        5.475582e+07   \n",
       "mean       3.995319e+01     1.685426e+00        2.251246e-02   \n",
       "std        7.041468e+00     1.326945e+00        3.855548e-02   \n",
       "min       -3.488080e+03     0.000000e+00        0.000000e+00   \n",
       "25%        4.073423e+01     1.000000e+00        5.960000e-03   \n",
       "50%        4.075332e+01     1.000000e+00        1.251000e-02   \n",
       "75%        4.076821e+01     2.000000e+00        2.393700e-02   \n",
       "max        3.378013e+03     2.080000e+02        4.989830e+00   \n",
       "\n",
       "       abs_diff_latitude  \n",
       "count       5.475582e+07  \n",
       "mean        2.110188e-02  \n",
       "std         2.903870e-02  \n",
       "min         0.000000e+00  \n",
       "25%         6.666500e-03  \n",
       "50%         1.402800e-02  \n",
       "75%         2.701750e-02  \n",
       "max         4.991320e+00  "
      ]
     },
     "execution_count": 36,
     "metadata": {},
     "output_type": "execute_result"
    }
   ],
   "source": [
    "%%time\n",
    "df.describe().compute()"
   ]
  },
  {
   "cell_type": "markdown",
   "id": "nominated-split",
   "metadata": {},
   "source": [
    "<span style=\"color:#EB5E0B;font-style:italic\">\n",
    "    \n",
    "- Are there some values that still looks odd to you in here?\n",
    "</span>"
   ]
  },
  {
   "cell_type": "code",
   "execution_count": null,
   "id": "alleged-mixture",
   "metadata": {},
   "outputs": [],
   "source": [
    "## 93k$ in fare, -300$, logitudes of thousands, same for longitudes, 208 passengers"
   ]
  },
  {
   "cell_type": "markdown",
   "id": "twelve-guest",
   "metadata": {},
   "source": [
    "## Training a model in a distributed way\n",
    "\n",
    "Let's begin with a linear model that we can distributed with Dask ML."
   ]
  },
  {
   "cell_type": "markdown",
   "id": "restricted-guard",
   "metadata": {},
   "source": [
    "### Building our feature vectors\n",
    "\n",
    "Here again define a method so that we can use it later for our test set evaluation.\n",
    "\n",
    "<span style=\"color:#EB5E0B;font-style:italic\">\n",
    "    \n",
    "- Just do the same as with the Pandas example by defining a get_input_matrix(df) function. But this time you'll generate a dask array using to_dask_array(length=True) method on the dataframe. You should do a method that generate the X input features dask array, and also the same with y training results. You can do just one method that return both. \n",
    "- It is a good idea to persist() arrays in memory in or after the call.\n",
    "- This time, we'll add the feature 'passenger_count' in addition to the distance vectors.\n",
    "</span>"
   ]
  },
  {
   "cell_type": "code",
   "execution_count": 87,
   "id": "specialized-wings",
   "metadata": {},
   "outputs": [],
   "source": [
    "train_df = df # rename df for understanding purposes"
   ]
  },
  {
   "cell_type": "code",
   "execution_count": 88,
   "id": "clinical-triumph",
   "metadata": {},
   "outputs": [
    {
     "name": "stdout",
     "output_type": "stream",
     "text": [
      "(54755818, 3)\n",
      "(54755818,)\n",
      "CPU times: user 201 ms, sys: 18 ms, total: 219 ms\n",
      "Wall time: 3.85 s\n"
     ]
    }
   ],
   "source": [
    "%%time\n",
    "import numpy as np\n",
    "\n",
    "# using the travel vector, plus a 1.0 for a constant bias term.\n",
    "def get_input_matrix(df):\n",
    "    return df[[\"abs_diff_longitude\", \"abs_diff_latitude\", \"passenger_count\"]].to_dask_array(lengths=True), df.fare_amount.to_dask_array(lengths=True)\n",
    "\n",
    "train_X, train_y = get_input_matrix(train_df)\n",
    "\n",
    "print(train_X.shape)\n",
    "print(train_y.shape)"
   ]
  },
  {
   "cell_type": "markdown",
   "id": "fancy-venezuela",
   "metadata": {},
   "source": [
    "Then we get the values, and display train_X to have some insights of its size and chunking scheme."
   ]
  },
  {
   "cell_type": "code",
   "execution_count": 89,
   "id": "annoying-kruger",
   "metadata": {},
   "outputs": [
    {
     "data": {
      "text/html": [
       "<table>\n",
       "<tr>\n",
       "<td>\n",
       "<table>\n",
       "  <thead>\n",
       "    <tr><td> </td><th> Array </th><th> Chunk </th></tr>\n",
       "  </thead>\n",
       "  <tbody>\n",
       "    <tr><th> Bytes </th><td> 1.31 GB </td> <td> 15.64 MB </td></tr>\n",
       "    <tr><th> Shape </th><td> (54755818, 3) </td> <td> (651742, 3) </td></tr>\n",
       "    <tr><th> Count </th><td> 1700 Tasks </td><td> 85 Chunks </td></tr>\n",
       "    <tr><th> Type </th><td> float64 </td><td> numpy.ndarray </td></tr>\n",
       "  </tbody>\n",
       "</table>\n",
       "</td>\n",
       "<td>\n",
       "<svg width=\"75\" height=\"170\" style=\"stroke:rgb(0,0,0);stroke-width:1\" >\n",
       "\n",
       "  <!-- Horizontal lines -->\n",
       "  <line x1=\"0\" y1=\"0\" x2=\"25\" y2=\"0\" style=\"stroke-width:2\" />\n",
       "  <line x1=\"0\" y1=\"5\" x2=\"25\" y2=\"5\" />\n",
       "  <line x1=\"0\" y1=\"11\" x2=\"25\" y2=\"11\" />\n",
       "  <line x1=\"0\" y1=\"18\" x2=\"25\" y2=\"18\" />\n",
       "  <line x1=\"0\" y1=\"24\" x2=\"25\" y2=\"24\" />\n",
       "  <line x1=\"0\" y1=\"31\" x2=\"25\" y2=\"31\" />\n",
       "  <line x1=\"0\" y1=\"37\" x2=\"25\" y2=\"37\" />\n",
       "  <line x1=\"0\" y1=\"44\" x2=\"25\" y2=\"44\" />\n",
       "  <line x1=\"0\" y1=\"49\" x2=\"25\" y2=\"49\" />\n",
       "  <line x1=\"0\" y1=\"57\" x2=\"25\" y2=\"57\" />\n",
       "  <line x1=\"0\" y1=\"62\" x2=\"25\" y2=\"62\" />\n",
       "  <line x1=\"0\" y1=\"69\" x2=\"25\" y2=\"69\" />\n",
       "  <line x1=\"0\" y1=\"75\" x2=\"25\" y2=\"75\" />\n",
       "  <line x1=\"0\" y1=\"82\" x2=\"25\" y2=\"82\" />\n",
       "  <line x1=\"0\" y1=\"88\" x2=\"25\" y2=\"88\" />\n",
       "  <line x1=\"0\" y1=\"95\" x2=\"25\" y2=\"95\" />\n",
       "  <line x1=\"0\" y1=\"101\" x2=\"25\" y2=\"101\" />\n",
       "  <line x1=\"0\" y1=\"108\" x2=\"25\" y2=\"108\" />\n",
       "  <line x1=\"0\" y1=\"114\" x2=\"25\" y2=\"114\" />\n",
       "  <line x1=\"0\" y1=\"120\" x2=\"25\" y2=\"120\" style=\"stroke-width:2\" />\n",
       "\n",
       "  <!-- Vertical lines -->\n",
       "  <line x1=\"0\" y1=\"0\" x2=\"0\" y2=\"120\" style=\"stroke-width:2\" />\n",
       "  <line x1=\"25\" y1=\"0\" x2=\"25\" y2=\"120\" style=\"stroke-width:2\" />\n",
       "\n",
       "  <!-- Colored Rectangle -->\n",
       "  <polygon points=\"0.0,0.0 25.412616514582485,0.0 25.412616514582485,120.0 0.0,120.0\" style=\"fill:#8B4903A0;stroke-width:0\"/>\n",
       "\n",
       "  <!-- Text -->\n",
       "  <text x=\"12.706308\" y=\"140.000000\" font-size=\"1.0rem\" font-weight=\"100\" text-anchor=\"middle\" >3</text>\n",
       "  <text x=\"45.412617\" y=\"60.000000\" font-size=\"1.0rem\" font-weight=\"100\" text-anchor=\"middle\" transform=\"rotate(-90,45.412617,60.000000)\">54755818</text>\n",
       "</svg>\n",
       "</td>\n",
       "</tr>\n",
       "</table>"
      ],
      "text/plain": [
       "dask.array<values, shape=(54755818, 3), dtype=float64, chunksize=(651742, 3), chunktype=numpy.ndarray>"
      ]
     },
     "execution_count": 89,
     "metadata": {},
     "output_type": "execute_result"
    }
   ],
   "source": [
    "#train_X, train_y = get_input_matrix(train_df)\n",
    "# or train_X =\n",
    "# train_y =\n",
    "train_X"
   ]
  },
  {
   "cell_type": "markdown",
   "id": "hungarian-housing",
   "metadata": {},
   "source": [
    "### Distributed training a Linear model\n",
    "\n",
    "Be careful, this can take time, try first with few iterations (max_iter = 5).\n",
    "\n",
    "see https://ml.dask.org/glm.html  \n",
    "and https://ml.dask.org/modules/generated/dask_ml.linear_model.LinearRegression.html#dask_ml.linear_model.LinearRegression\n",
    "\n",
    "<span style=\"color:#EB5E0B;font-style:italic\">\n",
    "    \n",
    "- Train a LinearRegression model from dask_ml.linear_model on our inputs\n",
    "</span>\n"
   ]
  },
  {
   "cell_type": "code",
   "execution_count": 90,
   "id": "vocational-yellow",
   "metadata": {},
   "outputs": [],
   "source": [
    "from dask_ml.linear_model import LinearRegression"
   ]
  },
  {
   "cell_type": "code",
   "execution_count": 91,
   "id": "short-nebraska",
   "metadata": {},
   "outputs": [
    {
     "data": {
      "text/plain": [
       "LinearRegression(max_iter=5)"
      ]
     },
     "execution_count": 91,
     "metadata": {},
     "output_type": "execute_result"
    }
   ],
   "source": [
    "lr = LinearRegression(max_iter=5)\n",
    "lr.fit(train_X, train_y)"
   ]
  },
  {
   "cell_type": "markdown",
   "id": "great-purpose",
   "metadata": {},
   "source": [
    "## Evaluating our model\n"
   ]
  },
  {
   "cell_type": "markdown",
   "id": "streaming-massage",
   "metadata": {},
   "source": [
    "#### First we should load the test set."
   ]
  },
  {
   "cell_type": "code",
   "execution_count": 92,
   "id": "palestinian-fluid",
   "metadata": {},
   "outputs": [
    {
     "data": {
      "text/html": [
       "<div><strong>Dask DataFrame Structure:</strong></div>\n",
       "<div>\n",
       "<style scoped>\n",
       "    .dataframe tbody tr th:only-of-type {\n",
       "        vertical-align: middle;\n",
       "    }\n",
       "\n",
       "    .dataframe tbody tr th {\n",
       "        vertical-align: top;\n",
       "    }\n",
       "\n",
       "    .dataframe thead th {\n",
       "        text-align: right;\n",
       "    }\n",
       "</style>\n",
       "<table border=\"1\" class=\"dataframe\">\n",
       "  <thead>\n",
       "    <tr style=\"text-align: right;\">\n",
       "      <th></th>\n",
       "      <th>key</th>\n",
       "      <th>fare_amount</th>\n",
       "      <th>pickup_datetime</th>\n",
       "      <th>pickup_longitude</th>\n",
       "      <th>pickup_latitude</th>\n",
       "      <th>dropoff_longitude</th>\n",
       "      <th>dropoff_latitude</th>\n",
       "      <th>passenger_count</th>\n",
       "    </tr>\n",
       "    <tr>\n",
       "      <th>npartitions=1</th>\n",
       "      <th></th>\n",
       "      <th></th>\n",
       "      <th></th>\n",
       "      <th></th>\n",
       "      <th></th>\n",
       "      <th></th>\n",
       "      <th></th>\n",
       "      <th></th>\n",
       "    </tr>\n",
       "  </thead>\n",
       "  <tbody>\n",
       "    <tr>\n",
       "      <th></th>\n",
       "      <td>object</td>\n",
       "      <td>float64</td>\n",
       "      <td>object</td>\n",
       "      <td>float64</td>\n",
       "      <td>float64</td>\n",
       "      <td>float64</td>\n",
       "      <td>float64</td>\n",
       "      <td>int64</td>\n",
       "    </tr>\n",
       "    <tr>\n",
       "      <th></th>\n",
       "      <td>...</td>\n",
       "      <td>...</td>\n",
       "      <td>...</td>\n",
       "      <td>...</td>\n",
       "      <td>...</td>\n",
       "      <td>...</td>\n",
       "      <td>...</td>\n",
       "      <td>...</td>\n",
       "    </tr>\n",
       "  </tbody>\n",
       "</table>\n",
       "</div>\n",
       "<div>Dask Name: read-csv, 1 tasks</div>"
      ],
      "text/plain": [
       "Dask DataFrame Structure:\n",
       "                  key fare_amount pickup_datetime pickup_longitude pickup_latitude dropoff_longitude dropoff_latitude passenger_count\n",
       "npartitions=1                                                                                                                        \n",
       "               object     float64          object          float64         float64           float64          float64           int64\n",
       "                  ...         ...             ...              ...             ...               ...              ...             ...\n",
       "Dask Name: read-csv, 1 tasks"
      ]
     },
     "execution_count": 92,
     "metadata": {},
     "output_type": "execute_result"
    }
   ],
   "source": [
    "test_df = dd.read_csv('gs://obd-dask/test.csv')\n",
    "test_df"
   ]
  },
  {
   "cell_type": "markdown",
   "id": "green-immune",
   "metadata": {},
   "source": [
    "Adding our features to the test set and getting our feature array"
   ]
  },
  {
   "cell_type": "code",
   "execution_count": 93,
   "id": "agreed-banking",
   "metadata": {},
   "outputs": [
    {
     "data": {
      "text/html": [
       "<table>\n",
       "<tr>\n",
       "<td>\n",
       "<table>\n",
       "  <thead>\n",
       "    <tr><td> </td><th> Array </th><th> Chunk </th></tr>\n",
       "  </thead>\n",
       "  <tbody>\n",
       "    <tr><th> Bytes </th><td> 12.86 MB </td> <td> 12.86 MB </td></tr>\n",
       "    <tr><th> Shape </th><td> (535627, 3) </td> <td> (535627, 3) </td></tr>\n",
       "    <tr><th> Count </th><td> 13 Tasks </td><td> 1 Chunks </td></tr>\n",
       "    <tr><th> Type </th><td> float64 </td><td> numpy.ndarray </td></tr>\n",
       "  </tbody>\n",
       "</table>\n",
       "</td>\n",
       "<td>\n",
       "<svg width=\"75\" height=\"170\" style=\"stroke:rgb(0,0,0);stroke-width:1\" >\n",
       "\n",
       "  <!-- Horizontal lines -->\n",
       "  <line x1=\"0\" y1=\"0\" x2=\"25\" y2=\"0\" style=\"stroke-width:2\" />\n",
       "  <line x1=\"0\" y1=\"120\" x2=\"25\" y2=\"120\" style=\"stroke-width:2\" />\n",
       "\n",
       "  <!-- Vertical lines -->\n",
       "  <line x1=\"0\" y1=\"0\" x2=\"0\" y2=\"120\" style=\"stroke-width:2\" />\n",
       "  <line x1=\"25\" y1=\"0\" x2=\"25\" y2=\"120\" style=\"stroke-width:2\" />\n",
       "\n",
       "  <!-- Colored Rectangle -->\n",
       "  <polygon points=\"0.0,0.0 25.412616514582485,0.0 25.412616514582485,120.0 0.0,120.0\" style=\"fill:#ECB172A0;stroke-width:0\"/>\n",
       "\n",
       "  <!-- Text -->\n",
       "  <text x=\"12.706308\" y=\"140.000000\" font-size=\"1.0rem\" font-weight=\"100\" text-anchor=\"middle\" >3</text>\n",
       "  <text x=\"45.412617\" y=\"60.000000\" font-size=\"1.0rem\" font-weight=\"100\" text-anchor=\"middle\" transform=\"rotate(-90,45.412617,60.000000)\">535627</text>\n",
       "</svg>\n",
       "</td>\n",
       "</tr>\n",
       "</table>"
      ],
      "text/plain": [
       "dask.array<values, shape=(535627, 3), dtype=float64, chunksize=(535627, 3), chunktype=numpy.ndarray>"
      ]
     },
     "execution_count": 93,
     "metadata": {},
     "output_type": "execute_result"
    }
   ],
   "source": [
    "add_travel_vector_features(test_df)\n",
    "test_X, test_y = get_input_matrix(test_df)\n",
    "test_X"
   ]
  },
  {
   "cell_type": "markdown",
   "id": "prerequisite-chocolate",
   "metadata": {},
   "source": [
    "We can use the score method inherited from Scikit learn, it gives some hints on the model performance."
   ]
  },
  {
   "cell_type": "code",
   "execution_count": 94,
   "id": "tight-hostel",
   "metadata": {},
   "outputs": [
    {
     "data": {
      "text/plain": [
       "0.5409004163576798"
      ]
     },
     "execution_count": 94,
     "metadata": {},
     "output_type": "execute_result"
    }
   ],
   "source": [
    "lr.score(test_X, test_y)"
   ]
  },
  {
   "cell_type": "markdown",
   "id": "quick-roller",
   "metadata": {},
   "source": [
    "Just get the numpy arrays for computing final score, this is small."
   ]
  },
  {
   "cell_type": "code",
   "execution_count": 95,
   "id": "flush-binding",
   "metadata": {},
   "outputs": [],
   "source": [
    "test_X = test_X.compute()\n",
    "test_y = test_y.compute()"
   ]
  },
  {
   "cell_type": "code",
   "execution_count": 96,
   "id": "iraqi-rochester",
   "metadata": {},
   "outputs": [
    {
     "data": {
      "text/plain": [
       "array([10.69832039, 10.30269054,  9.40911377, ...,  7.68693119,\n",
       "       12.54942988,  8.99660978])"
      ]
     },
     "execution_count": 96,
     "metadata": {},
     "output_type": "execute_result"
    }
   ],
   "source": [
    "lr.predict(test_X)"
   ]
  },
  {
   "cell_type": "markdown",
   "id": "quality-dinner",
   "metadata": {},
   "source": [
    "#### Compute the RMSE\n",
    "\n",
    "https://www.kaggle.com/c/new-york-city-taxi-fare-prediction/overview/evaluation"
   ]
  },
  {
   "cell_type": "code",
   "execution_count": 97,
   "id": "forced-joyce",
   "metadata": {},
   "outputs": [
    {
     "data": {
      "text/plain": [
       "5.234446349804723"
      ]
     },
     "execution_count": 97,
     "metadata": {},
     "output_type": "execute_result"
    }
   ],
   "source": [
    "from sklearn.metrics import mean_squared_error\n",
    "mean_squared_error(test_y, lr.predict(test_X), squared=False)"
   ]
  },
  {
   "cell_type": "markdown",
   "id": "recorded-physiology",
   "metadata": {},
   "source": [
    "<span style=\"color:#EB5E0B;font-style:italic\">\n",
    "    \n",
    "- What RMSE did you get? Compare it to the Pandas only computation.\n",
    "</span>"
   ]
  },
  {
   "cell_type": "code",
   "execution_count": null,
   "id": "residential-formation",
   "metadata": {},
   "outputs": [],
   "source": [
    "## Around 20 cents better"
   ]
  },
  {
   "cell_type": "markdown",
   "id": "permanent-activity",
   "metadata": {},
   "source": [
    "<span style=\"color:#EB5E0B;font-style:italic\">\n",
    "    \n",
    "- Why is this model not really good?\n",
    "</span>"
   ]
  },
  {
   "cell_type": "code",
   "execution_count": null,
   "id": "competitive-approval",
   "metadata": {},
   "outputs": [],
   "source": [
    "## Because we are not really good data scientists"
   ]
  },
  {
   "cell_type": "markdown",
   "id": "executed-makeup",
   "metadata": {},
   "source": [
    "## Use Dask to scale computation on Hyper Parameter Search\n",
    "\n",
    "As seen above, Dask is well suited to distribute Data and learn a model on a big Data set. However, not all the models can be train in parallel on sub chunks of Data. See https://scikit-learn.org/stable/computing/scaling_strategies.html for the compatible models of Sickit learn for example.\n",
    "\n",
    "Dask can also be used to train several model in parallel on small datasets, this is what we'll try now.\n",
    "\n",
    "We will just take a sample of the training set, and try to learn several models with different hyper parameters, and find the best one.\n",
    "\n",
    "Dask Hyper parameter search : https://ml.dask.org/hyper-parameter-search.html."
   ]
  },
  {
   "cell_type": "markdown",
   "id": "guided-catalog",
   "metadata": {},
   "source": [
    "First we'll take a small subset of the Data, 5% is a maximum if we want to avoir memory issues on our workers and have appropriate training times. You can try with less if the results are still good."
   ]
  },
  {
   "cell_type": "code",
   "execution_count": 98,
   "id": "attached-karma",
   "metadata": {},
   "outputs": [],
   "source": [
    "#Take a sample of the input data, get it as pandas dataframe\n",
    "train_sample_df = df.sample(frac=0.05, random_state=234567)\n",
    "# Get feature vectors out of it\n",
    "train_sample_X, train_sample_y = get_input_matrix(train_sample_df)"
   ]
  },
  {
   "cell_type": "markdown",
   "id": "serial-firmware",
   "metadata": {},
   "source": [
    "In order to optimize things, we can also change the type of the features to more appropriate and small types.\n",
    "\n",
    "We also need to use Numpy arrays, so we'll gather the result from Dask to local variable."
   ]
  },
  {
   "cell_type": "code",
   "execution_count": 99,
   "id": "gothic-royal",
   "metadata": {},
   "outputs": [
    {
     "data": {
      "text/plain": [
       "array([[0.0076  , 0.0151  , 1.      ],\n",
       "       [0.00989 , 0.012962, 1.      ],\n",
       "       [0.017835, 0.013236, 1.      ],\n",
       "       ...,\n",
       "       [0.007686, 0.018246, 1.      ],\n",
       "       [0.089249, 0.061108, 1.      ],\n",
       "       [0.02183 , 0.047782, 3.      ]], dtype=float32)"
      ]
     },
     "execution_count": 99,
     "metadata": {},
     "output_type": "execute_result"
    }
   ],
   "source": [
    "train_sample_X = train_sample_X.astype('float32').compute()\n",
    "train_sample_y = train_sample_y.astype('float32').compute()\n",
    "train_sample_X"
   ]
  },
  {
   "cell_type": "markdown",
   "id": "married-malawi",
   "metadata": {},
   "source": [
    "What size is our dataset ?"
   ]
  },
  {
   "cell_type": "code",
   "execution_count": 100,
   "id": "seventh-bathroom",
   "metadata": {},
   "outputs": [
    {
     "data": {
      "text/plain": [
       "32853664"
      ]
     },
     "execution_count": 100,
     "metadata": {},
     "output_type": "execute_result"
    }
   ],
   "source": [
    "import sys\n",
    "sys.getsizeof(train_sample_X)"
   ]
  },
  {
   "cell_type": "markdown",
   "id": "involved-southwest",
   "metadata": {},
   "source": [
    "About 32MB, this is still quite a big dataset for standard machine learning."
   ]
  },
  {
   "cell_type": "markdown",
   "id": "egyptian-complement",
   "metadata": {},
   "source": [
    "<span style=\"color:#EB5E0B;font-style:italic\">\n",
    "\n",
    "- Now, just use dask hyper parameter search Dask API to distribute the search. You can either use joblib integration with Sklearn or dask_ml directly. Be careful: do not use model too long to train, and limit their complexity at first or the combinations of hyper parameters you'll use. Hint, start first with a simple LinearModel like SGDRegressor and not more than 10 iterations per model.\n",
    "</span>"
   ]
  },
  {
   "cell_type": "code",
   "execution_count": 101,
   "id": "small-photography",
   "metadata": {},
   "outputs": [],
   "source": [
    "from sklearn.linear_model import SGDRegressor\n",
    "from dask_ml.model_selection import GridSearchCV"
   ]
  },
  {
   "cell_type": "code",
   "execution_count": 102,
   "id": "million-walker",
   "metadata": {},
   "outputs": [
    {
     "name": "stdout",
     "output_type": "stream",
     "text": [
      "CPU times: user 609 ms, sys: 52.3 ms, total: 661 ms\n",
      "Wall time: 24.7 s\n"
     ]
    },
    {
     "data": {
      "text/plain": [
       "GridSearchCV(estimator=SGDRegressor(max_iter=10),\n",
       "             param_grid={'alpha': [0.001, 0.01, 0.1, 0.5, 0.99],\n",
       "                         'penalty': ['l2', 'l1', 'elasticnet']})"
      ]
     },
     "execution_count": 102,
     "metadata": {},
     "output_type": "execute_result"
    }
   ],
   "source": [
    "%%time\n",
    "sgd = SGDRegressor(max_iter=10)\n",
    "params = {'alpha': [0.001, 0.01, 0.1, 0.5, 0.99],\n",
    "          'penalty': ['l2', 'l1', 'elasticnet']\n",
    "         }\n",
    "search = GridSearchCV(sgd, params)\n",
    "search.fit(train_sample_X, train_sample_y)"
   ]
  },
  {
   "cell_type": "code",
   "execution_count": 103,
   "id": "experienced-champagne",
   "metadata": {},
   "outputs": [
    {
     "data": {
      "text/plain": [
       "0.5409174611866625"
      ]
     },
     "execution_count": 103,
     "metadata": {},
     "output_type": "execute_result"
    }
   ],
   "source": [
    "search.score(test_X, test_y)"
   ]
  },
  {
   "cell_type": "code",
   "execution_count": 104,
   "id": "headed-forty",
   "metadata": {},
   "outputs": [
    {
     "data": {
      "text/plain": [
       "5.234349180177308"
      ]
     },
     "execution_count": 104,
     "metadata": {},
     "output_type": "execute_result"
    }
   ],
   "source": [
    "from sklearn.metrics import mean_squared_error\n",
    "mean_squared_error(test_y, search.predict(test_X), squared=False)"
   ]
  },
  {
   "cell_type": "markdown",
   "id": "boxed-agency",
   "metadata": {},
   "source": [
    "<span style=\"color:#EB5E0B;font-style:italic\">\n",
    "\n",
    "- So how does the result compare to distributed leaning with a linear model? On all the dataset?\n",
    "    \n",
    "</span>"
   ]
  },
  {
   "cell_type": "code",
   "execution_count": null,
   "id": "talented-sword",
   "metadata": {},
   "outputs": [],
   "source": [
    "## It is about the same so far"
   ]
  },
  {
   "cell_type": "markdown",
   "id": "fatty-qualification",
   "metadata": {},
   "source": [
    "<span style=\"color:#EB5E0B;font-style:italic\">\n",
    "    \n",
    "- Can you do better with Random forest? Caution: use limited trees, small number of estimators < 5 and max_depth < 40...\n",
    "</span>"
   ]
  },
  {
   "cell_type": "code",
   "execution_count": 105,
   "id": "instructional-cloud",
   "metadata": {},
   "outputs": [],
   "source": [
    "from sklearn.ensemble import RandomForestRegressor"
   ]
  },
  {
   "cell_type": "code",
   "execution_count": null,
   "id": "accepting-basis",
   "metadata": {},
   "outputs": [],
   "source": [
    "%%time\n",
    "rfr = RandomForestRegressor(n_estimators=5, max_depth=20)\n",
    "params = {\n",
    "    'min_samples_split': [2, 5, 10],\n",
    "    'max_features': ['auto', 'sqrt', 'log2'],\n",
    "}\n",
    "search = GridSearchCV(sgd, params)\n",
    "search.fit(train_sample_X, train_sample_y)"
   ]
  },
  {
   "cell_type": "markdown",
   "id": "hundred-harbor",
   "metadata": {},
   "source": [
    "<span style=\"color:#EB5E0B;font-style:italic\">\n",
    "    \n",
    "- What do you observe when training RandomForest tree on Dask parallelization Dashboard? Can you explain why there are so many tasks?\n",
    "</span>"
   ]
  },
  {
   "cell_type": "code",
   "execution_count": null,
   "id": "classical-gospel",
   "metadata": {},
   "outputs": [],
   "source": [
    "## Answer needed here"
   ]
  },
  {
   "cell_type": "code",
   "execution_count": null,
   "id": "finite-synthetic",
   "metadata": {},
   "outputs": [],
   "source": [
    "search.score(test_X, test_y)"
   ]
  },
  {
   "cell_type": "code",
   "execution_count": null,
   "id": "surrounded-moscow",
   "metadata": {},
   "outputs": [],
   "source": [
    "from sklearn.metrics import mean_squared_error\n",
    "mean_squared_error(test_y, search.predict(test_X), squared=False)"
   ]
  },
  {
   "cell_type": "markdown",
   "id": "automatic-commonwealth",
   "metadata": {},
   "source": [
    "<span style=\"color:#EB5E0B;font-style:italic\">\n",
    "    \n",
    "- Did you get better results with RandomForest? Why ?\n",
    "</span>"
   ]
  },
  {
   "cell_type": "code",
   "execution_count": null,
   "id": "specified-madagascar",
   "metadata": {},
   "outputs": [],
   "source": [
    "## Answer needed there"
   ]
  },
  {
   "cell_type": "markdown",
   "id": "macro-range",
   "metadata": {},
   "source": [
    "<span style=\"color:#EB5E0B;font-style:italic\">\n",
    "    \n",
    "# Extend this notebook\n",
    "    \n",
    "Try to do better!\n",
    "\n",
    "- Add new features to the input Data using Dask Dataframes, or clean it better. Reapply the learning above with these new features. Do you get better results? Some suggestions for a better leaning:\n",
    "  - Max passenger count of 208, maybe we should ignore this value? Rides with 0 passengers? Try to drop some data.\n",
    "  - Apply some normalisation or regularization or other feature transformation? See https://ml.dask.org/preprocessing.html.\n",
    "  - There are 0m rides?\n",
    "  - Negative fare amount?? Drop some data.\n",
    "  - Maybe the hour of the day, or the month, has some impact on fares? Try to add features. See https://matthewrocklin.com/blog/work/2017/01/12/dask-dataframes for some hints on how to do this.\n",
    "  - Maybe try to find a way to use the start and drop off locations?\n",
    "- Improve the model parameters or find a better one. Try using this time dask_ml HyperbandSearchCV. See https://ml.dask.org/hyper-parameter-search.html#basic-use. You can use it for example with https://scikit-learn.org/stable/modules/generated/sklearn.neural_network.MLPRegressor.html#sklearn.neural_network.MLPRegressor.\n",
    "\n",
    "</span>\n"
   ]
  }
 ],
 "metadata": {
  "kernelspec": {
   "display_name": "Python [conda env:notebook] *",
   "language": "python",
   "name": "conda-env-notebook-py"
  },
  "language_info": {
   "codemirror_mode": {
    "name": "ipython",
    "version": 3
   },
   "file_extension": ".py",
   "mimetype": "text/x-python",
   "name": "python",
   "nbconvert_exporter": "python",
   "pygments_lexer": "ipython3",
   "version": "3.8.6"
  }
 },
 "nbformat": 4,
 "nbformat_minor": 5
}
