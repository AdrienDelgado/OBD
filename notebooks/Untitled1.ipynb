{
 "cells": [
  {
   "cell_type": "code",
   "execution_count": null,
   "id": "present-congress",
   "metadata": {},
   "outputs": [
    {
     "name": "stdout",
     "output_type": "stream",
     "text": [
      "Collecting package metadata (current_repodata.json): done\n",
      "Solving environment: done\n",
      "\n",
      "## Package Plan ##\n",
      "\n",
      "  environment location: /srv/conda/envs/gym\n",
      "\n",
      "  added / updated specs:\n",
      "    - pip\n",
      "    - python=3\n",
      "\n",
      "\n",
      "The following packages will be downloaded:\n",
      "\n",
      "    package                    |            build\n",
      "    ---------------------------|-----------------\n",
      "    _libgcc_mutex-0.1          |      conda_forge           3 KB  conda-forge\n",
      "    _openmp_mutex-4.5          |            1_gnu          22 KB  conda-forge\n",
      "    ca-certificates-2020.12.5  |       ha878542_0         137 KB  conda-forge\n",
      "    certifi-2020.12.5          |   py39hf3d152e_1         143 KB  conda-forge\n",
      "    ld_impl_linux-64-2.35.1    |       hea4e1c9_2         618 KB  conda-forge\n",
      "    libffi-3.3                 |       h58526e2_2          51 KB  conda-forge\n",
      "    libgcc-ng-9.3.0            |      h2828fa1_18         7.8 MB  conda-forge\n",
      "    libgomp-9.3.0              |      h2828fa1_18         376 KB  conda-forge\n",
      "    libstdcxx-ng-9.3.0         |      h6de172a_18         4.0 MB  conda-forge\n",
      "    ncurses-6.2                |       h58526e2_4         985 KB  conda-forge\n",
      "    openssl-1.1.1i             |       h7f98852_0         2.1 MB  conda-forge\n",
      "    pip-21.0.1                 |     pyhd8ed1ab_0         1.1 MB  conda-forge\n",
      "    python-3.9.1               |hffdb5ce_5_cpython        27.3 MB  conda-forge\n",
      "    python_abi-3.9             |           1_cp39           4 KB  conda-forge\n",
      "    readline-8.0               |       he28a2e2_2         281 KB  conda-forge\n",
      "    setuptools-49.6.0          |   py39hf3d152e_3         943 KB  conda-forge\n",
      "    sqlite-3.34.0              |       h74cdb3f_0         1.4 MB  conda-forge\n",
      "    tk-8.6.10                  |       h21135ba_1         3.2 MB  conda-forge\n",
      "    tzdata-2021a               |       he74cb21_0         121 KB  conda-forge\n",
      "    wheel-0.36.2               |     pyhd3deb0d_0          31 KB  conda-forge\n",
      "    xz-5.2.5                   |       h516909a_1         343 KB  conda-forge\n",
      "    zlib-1.2.11                |    h516909a_1010         106 KB  conda-forge\n",
      "    ------------------------------------------------------------\n",
      "                                           Total:        51.1 MB\n",
      "\n",
      "The following NEW packages will be INSTALLED:\n",
      "\n",
      "  _libgcc_mutex      conda-forge/linux-64::_libgcc_mutex-0.1-conda_forge\n",
      "  _openmp_mutex      conda-forge/linux-64::_openmp_mutex-4.5-1_gnu\n",
      "  ca-certificates    conda-forge/linux-64::ca-certificates-2020.12.5-ha878542_0\n",
      "  certifi            conda-forge/linux-64::certifi-2020.12.5-py39hf3d152e_1\n",
      "  ld_impl_linux-64   conda-forge/linux-64::ld_impl_linux-64-2.35.1-hea4e1c9_2\n",
      "  libffi             conda-forge/linux-64::libffi-3.3-h58526e2_2\n",
      "  libgcc-ng          conda-forge/linux-64::libgcc-ng-9.3.0-h2828fa1_18\n",
      "  libgomp            conda-forge/linux-64::libgomp-9.3.0-h2828fa1_18\n",
      "  libstdcxx-ng       conda-forge/linux-64::libstdcxx-ng-9.3.0-h6de172a_18\n",
      "  ncurses            conda-forge/linux-64::ncurses-6.2-h58526e2_4\n",
      "  openssl            conda-forge/linux-64::openssl-1.1.1i-h7f98852_0\n",
      "  pip                conda-forge/noarch::pip-21.0.1-pyhd8ed1ab_0\n",
      "  python             conda-forge/linux-64::python-3.9.1-hffdb5ce_5_cpython\n",
      "  python_abi         conda-forge/linux-64::python_abi-3.9-1_cp39\n",
      "  readline           conda-forge/linux-64::readline-8.0-he28a2e2_2\n",
      "  setuptools         conda-forge/linux-64::setuptools-49.6.0-py39hf3d152e_3\n",
      "  sqlite             conda-forge/linux-64::sqlite-3.34.0-h74cdb3f_0\n",
      "  tk                 conda-forge/linux-64::tk-8.6.10-h21135ba_1\n",
      "  tzdata             conda-forge/noarch::tzdata-2021a-he74cb21_0\n",
      "  wheel              conda-forge/noarch::wheel-0.36.2-pyhd3deb0d_0\n",
      "  xz                 conda-forge/linux-64::xz-5.2.5-h516909a_1\n",
      "  zlib               conda-forge/linux-64::zlib-1.2.11-h516909a_1010\n",
      "\n",
      "\n",
      "Proceed ([y]/n)? "
     ]
    }
   ],
   "source": [
    "!conda create -n gym python=3 pip"
   ]
  }
 ],
 "metadata": {
  "kernelspec": {
   "display_name": "Python [conda env:notebook] *",
   "language": "python",
   "name": "conda-env-notebook-py"
  },
  "language_info": {
   "codemirror_mode": {
    "name": "ipython",
    "version": 3
   },
   "file_extension": ".py",
   "mimetype": "text/x-python",
   "name": "python",
   "nbconvert_exporter": "python",
   "pygments_lexer": "ipython3",
   "version": "3.8.6"
  }
 },
 "nbformat": 4,
 "nbformat_minor": 5
}
